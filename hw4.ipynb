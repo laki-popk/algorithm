{
 "cells": [
  {
   "cell_type": "markdown",
   "metadata": {},
   "source": [
    "## algorithm design and anlysis-2025 spring  homework 4\n",
    "**Deadline**：2025.5.14\n",
    "\n",
    "**name**:\n",
    "\n",
    "\n",
    "note：\n",
    "---\n",
    "1. 带有\\*的题目，申请免上课的同学，必须完成，其他同学选作；\n",
    "2. 请独立完成，如求助了他人或者大模型，请著明，并且不可省略算法分析部分；\n",
    "4. 如若作答有雷同，全部取消成绩；\n",
    "3. 需要书面作答的题目，可以通过引用图片的形式添加，但是注意上传项目时包含所引用的图片的源文件；\n",
    "4. $log_n$ 默认表示$log_2{n}$;"
   ]
  },
  {
   "cell_type": "markdown",
   "metadata": {},
   "source": [
    "## 问题 1 \n",
    "**最小生成树（Minimum Spanning Tree）**\n",
    "\n",
    "设  **G**  为一个带权重的连通无向图，且所有边的权重均不相等。令$e_i$ 为权重第 $i$ 小的边。最小生成树（MST）是否必须包含 $e_1$ ? 同理，是否必须包含 $e_2$ 和 $e_3$ ? 若必须包含，请给出证明；否则，请构造反例。需从基本原理论证，不能依赖割引理(cut lemma) 或 Prim/Kruskal算法的正确性。\n"
   ]
  },
  {
   "cell_type": "markdown",
   "metadata": {},
   "source": [
    "answer:\n",
    "<div style=\"width:200px;\"> <img alt=\"\" src=\"./fig/hw4q1_answer.jpg\" width=\"800\"> </div>"
   ]
  },
  {
   "cell_type": "markdown",
   "metadata": {},
   "source": [
    "## 问题 2 \n",
    "**瓶颈生成树（Bottleneck Spanning Tree）**\n",
    "\n",
    "带有权重的无向图 $G(V,E,w)$ 的瓶颈生成树，表现为：在所有生成树中，最大权重边的权重值最小。即，BST $T$ 最小化瓶颈损失 $c(T)=max_{e \\in T}{w(e)}$。\n",
    "\n",
    "1. 证明 $G$ 的每一个最小生成树（MST）都是瓶颈生成树（BST）\n",
    "2. 设计一个线性时间复杂度的算法：， 对于一个图 $G(V,E,w)$ 和一个整数 $b$，判断图 $ G$ 是否存在一个瓶颈生成树，其最大权重边的权重不超过 $b$，分析算法设计思路，并基于python编程实现。\n",
    "3. 设计一个线性时间复杂度的算法：对于给定的图 $G(V,E,w)$，找到其瓶颈生成树，分析算法设计思路，并基于python编程实现。"
   ]
  },
  {
   "cell_type": "markdown",
   "metadata": {},
   "source": [
    "answer：\n",
    "1. 证明：假设生成树T的最大边权小于某最小生成树（MST）的最大边权。MST移除最大边会分成两子树，T中有边连这两子树且边权小于MST最大边权。将此边加入MST并移除原最大边，会得到总权值更小的生成树，这与MST定义矛盾。所以，MST的最大边权在所有生成树的最大边权中是最小的，即MST的最大边权最小，可认为MST也是一种特殊的（最大边权最小的）生成树\n",
    "2. 首先，过滤所有权重大于b的边；其次，检查剩余边构成的图是否连通；然后，使用BFS/DFS进行连通性判断"
   ]
  },
  {
   "cell_type": "code",
   "metadata": {
    "ExecuteTime": {
     "end_time": "2025-05-12T14:53:49.989747Z",
     "start_time": "2025-05-12T14:53:49.985629Z"
    }
   },
   "source": [
    "# add your code here\n",
    "# algorithm of the liear time complexity \n",
    "def can_form_bst(edges, vertex_count, max_weight):\n",
    "    adjacency_list = [[] for _ in range(vertex_count)]\n",
    "    for node1, node2, weight in edges:\n",
    "        if weight <= max_weight:\n",
    "            adjacency_list[node1].append(node2)\n",
    "            adjacency_list[node2].append(node1)\n",
    "    visited = [False] * vertex_count\n",
    "    queue = [0]\n",
    "    visited[0] = True\n",
    "    reachable_count = 1\n",
    "    \n",
    "    while queue:\n",
    "        current_node = queue.pop(0)\n",
    "        for neighbor in adjacency_list[current_node]:\n",
    "            if not visited[neighbor]:\n",
    "                visited[neighbor] = True\n",
    "                reachable_count += 1\n",
    "                queue.append(neighbor)\n",
    "    \n",
    "    return reachable_count == vertex_count"
   ],
   "outputs": [],
   "execution_count": 4
  },
  {
   "metadata": {},
   "cell_type": "markdown",
   "source": [
    "answer：\n",
    "3. 首先，所有BST中最大边权的最小值等于MST的最大边权；然后，使用Kruskal算法找到MST，并记录其最大边权"
   ]
  },
  {
   "metadata": {
    "ExecuteTime": {
     "end_time": "2025-05-12T14:53:42.273199Z",
     "start_time": "2025-05-12T14:53:42.270037Z"
    }
   },
   "cell_type": "code",
   "source": [
    "def find_max_edge_in_mst(edges, vertex_count):\n",
    "    sorted_edges = sorted(edges, key=lambda x: x[2])\n",
    "    parent = list(range(vertex_count))\n",
    "    \n",
    "    def find(node):\n",
    "        while parent[node] != node:\n",
    "            parent[node] = parent[parent[node]]\n",
    "            node = parent[node]\n",
    "        return node\n",
    "    \n",
    "    max_edge_weight = 0\n",
    "    edge_count = 0\n",
    "    \n",
    "    for node1, node2, weight in sorted_edges:\n",
    "        root1 = find(node1)\n",
    "        root2 = find(node2)\n",
    "        if root1 != root2:\n",
    "            parent[root2] = root1\n",
    "            if weight > max_edge_weight:\n",
    "                max_edge_weight = weight\n",
    "            edge_count += 1\n",
    "            if edge_count == vertex_count - 1:\n",
    "                break\n",
    "    \n",
    "    return max_edge_weight"
   ],
   "outputs": [],
   "execution_count": 3
  },
  {
   "cell_type": "markdown",
   "metadata": {},
   "source": [
    "## 问题 3\n",
    "\n",
    "**道路网（Road Network）**\n",
    "\n",
    "假设有一个以图 $ G(V, E, l) $ 表示的道路网络，连接了一组城市 $ V $。我们假设该网络是有向的，并且每条道路 $(u, v) \\in E$ 都有一个非负的长度 $ l(u, v) $。一条新的道路即将被建造，因此有一个列表 $ E' $ 包含它可以连接的城市对。每对 $(u, v) \\in E'$ 都有一个对应的长度 $ l'(u, v) $。我们希望选择一对城市，使得两个城市 $ s, t \\in V $ 之间的距离减少最大。请为此问题编写一个高效的算法，并详细解释算法的正确性和复杂度。\n"
   ]
  },
  {
   "metadata": {},
   "cell_type": "markdown",
   "source": [
    "idea：【求助了大模型AI】首先在预处理阶段，使用Dijkstra算法计算s到所有节点的最短路径d_s，以及构建反向图后计算t到所有节点的路径d_t_reversed。然后处理候选边，若原s到t可达，计算每条候选边s->u->v->t路径长度，找出使距离减少最大的边；若原不可达，则选择能连接s和t且路径最短的候选边。\n",
    "\n",
    "时间复杂度：两次Dijkstra为(O(m + n log n))+遍历候选边（O(k)）"
   ]
  },
  {
   "metadata": {
    "ExecuteTime": {
     "end_time": "2025-05-13T04:37:09.530992Z",
     "start_time": "2025-05-13T04:37:09.519994Z"
    }
   },
   "cell_type": "code",
   "source": [
    "# 求助了大模型AI\n",
    "# your algorithm time complexity is: (O(m + n log n))+(O(k))\n",
    "import heapq\n",
    "\n",
    "def dijkstra(graph, start, vertex_count):\n",
    "    INF = float('inf')\n",
    "    distances = [INF] * vertex_count\n",
    "    distances[start] = 0\n",
    "    heap = [(0, start)]\n",
    "    \n",
    "    while heap:\n",
    "        current_distance, current_node = heapq.heappop(heap)\n",
    "        if current_distance > distances[current_node]:\n",
    "            continue\n",
    "        for neighbor, weight in graph[current_node]:\n",
    "            if distances[neighbor] > current_distance + weight:\n",
    "                distances[neighbor] = current_distance + weight\n",
    "                heapq.heappush(heap, (distances[neighbor], neighbor))\n",
    "    \n",
    "    return distances\n",
    "\n",
    "def reverse_graph(original_graph, vertex_count):\n",
    "    reversed_graph = [[] for _ in range(vertex_count)]\n",
    "    for node in range(vertex_count):\n",
    "        for neighbor, weight in original_graph[node]:\n",
    "            reversed_graph[neighbor].append((node, weight))\n",
    "    return reversed_graph\n",
    "\n",
    "def find_best_new_road(original_graph, vertex_count, start, end, new_edges):\n",
    "    dist_from_start = dijkstra(original_graph, start, vertex_count)\n",
    "    \n",
    "    reversed_graph = reverse_graph(original_graph, vertex_count)\n",
    "    dist_from_end = dijkstra(reversed_graph, end, vertex_count)\n",
    "    \n",
    "    original_distance = dist_from_start[end]\n",
    "    best_edge = None\n",
    "    max_improvement = 0\n",
    "    INF = float('inf')\n",
    "    \n",
    "    if original_distance < INF:\n",
    "        for u, v, new_weight in new_edges:\n",
    "            if dist_from_start[u] < INF and dist_from_end[v] < INF:\n",
    "                candidate_dist = dist_from_start[u] + new_weight + dist_from_end[v]\n",
    "                if candidate_dist < original_distance:\n",
    "                    improvement = original_distance - candidate_dist\n",
    "                    if improvement > max_improvement:\n",
    "                        max_improvement = improvement\n",
    "                        best_edge = (u, v, new_weight)\n",
    "    else:\n",
    "        min_candidate = INF\n",
    "        for u, v, new_weight in new_edges:\n",
    "            if dist_from_start[u] < INF and dist_from_end[v] < INF:\n",
    "                candidate_dist = dist_from_start[u] + new_weight + dist_from_end[v]\n",
    "                if candidate_dist < min_candidate:\n",
    "                    min_candidate = candidate_dist\n",
    "                    best_edge = (u, v, new_weight)\n",
    "        if min_candidate < INF:\n",
    "            max_improvement = INF  \n",
    "    \n",
    "    return best_edge, max_improvement\n"
   ],
   "outputs": [],
   "execution_count": 9
  },
  {
   "cell_type": "markdown",
   "metadata": {},
   "source": [
    "## 问题 4\n",
    "\n",
    "**逃离问题**\n",
    "\n",
    "一个 $ n \\times n $ 的网格是一个无向图，由 $ n $ 行和 $ n $ 列的顶点组成，如下图所示。我们用 $(i,j)$ 表示第 $ i $ 行和第 $ j $ 列的顶点。除了边界顶点，网格中的所有顶点都有四个邻居，即满足 $ i = 1, i = n, j = 1 $ 或 $ j = n $ 的点 $(i,j)$。\n",
    "\n",
    "给定网格中的 $ m \\leq n^2 $ 个起点 $(x_1, y_1), (x_2, y_2), \\cdots , (x_m, y_m)$，逃离问题是确定是否存在 $ m $ 条顶点不相交的路径（即路径之间不相交），从这些起点到边界上的任意 $ m $ 个不同点。例如，图1中的网格存在逃离。\n",
    "\n",
    "(1) 该问题可以看作是一个最大流问题。考虑一个流网络，其中顶点和边都有容量。也就是说，进入任何给定顶点的总正流量受到容量限制。证明在具有边和顶点容量的网络中确定最大流可以简化为在具有可比大小的普通流网络上的最大流问题。更准确地说，你需要将一个具有顶点和边容量的网络 $ G = (V,E) $ 转换为另一个仅具有边容量的网络 $ G' = (V', E') $，使得两个网络上的最大流相同，并且你构建的新网络具有 $ V' = O(V) $ 个顶点和 $ E' = O(E) $ 条边。你可以假设网络是连通的。\n",
    "\n",
    "(2) 描述一个解决逃离问题的高效算法，并分析其运行时间。\n",
    "\n",
    "\n",
    "<div align=\"center\"> <img alt=\"图片\" src=\"./fig/escepe-p.png\"> </div>\n",
    "<center> 图2. 逃脱问题网格，起始顶点为黑色，其他网格顶点为白色</center>"
   ]
  },
  {
   "cell_type": "markdown",
   "metadata": {},
   "source": [
    "idea：【做不来，使用了大模型AI】并查集（Union-Find）算法。首先，创建一个大小为 n²的并查集；然后将所有相邻的白色点连接起来；最后检查左上角和右下角是否属于同一个连通分量\n",
    "\n",
    "时间复杂度：初始化并查集O(n²)+遍历网格连接点O(n²)+查找和合并操作O(1) = O(n²)"
   ]
  },
  {
   "metadata": {
    "ExecuteTime": {
     "end_time": "2025-05-12T15:07:12.711625Z",
     "start_time": "2025-05-12T15:07:12.705625Z"
    }
   },
   "cell_type": "code",
   "source": [
    "# 做不来，使用了大模型AI\n",
    "class UnionFind:\n",
    "    def __init__(self, n):\n",
    "        self.parent = list(range(n))\n",
    "        self.rank = [0] * n\n",
    "    \n",
    "    def find(self, x):\n",
    "        if self.parent[x] != x:\n",
    "            self.parent[x] = self.find(self.parent[x])\n",
    "        return self.parent[x]\n",
    "    \n",
    "    def union(self, x, y):\n",
    "        root_x = self.find(x)\n",
    "        root_y = self.find(y)\n",
    "        \n",
    "        if root_x == root_y:\n",
    "            return False\n",
    "        \n",
    "        if self.rank[root_x] < self.rank[root_y]:\n",
    "            root_x, root_y = root_y, root_x\n",
    "        \n",
    "        self.parent[root_y] = root_x\n",
    "        \n",
    "        if self.rank[root_x] == self.rank[root_y]:\n",
    "            self.rank[root_x] += 1\n",
    "        \n",
    "        return True\n",
    "\n",
    "def solve_escape_problem(n, black_points):\n",
    "    def get_index(i, j):\n",
    "        return i * n + j\n",
    "    \n",
    "    def is_valid(i, j):\n",
    "        return 0 <= i < n and 0 <= j < n\n",
    "    \n",
    "    # 创建并查集\n",
    "    uf = UnionFind(n * n)\n",
    "    \n",
    "    # 移动方向：上、下、左、右\n",
    "    directions = [(0, 1), (0, -1), (1, 0), (-1, 0)]\n",
    "    \n",
    "    # 将黑色点标记为不可通过\n",
    "    black_set = set(black_points)\n",
    "    \n",
    "    # 连接相邻的白色点\n",
    "    for i in range(n):\n",
    "        for j in range(n):\n",
    "            if (i, j) in black_set:\n",
    "                continue\n",
    "            \n",
    "            for di, dj in directions:\n",
    "                ni, nj = i + di, j + dj\n",
    "                \n",
    "                if is_valid(ni, nj) and (ni, nj) not in black_set:\n",
    "                    uf.union(get_index(i, j), get_index(ni, nj))\n",
    "    \n",
    "    # 检查顶点是否连通\n",
    "    top_left = get_index(0, 0)\n",
    "    bottom_right = get_index(n-1, n-1)\n",
    "    \n",
    "    return uf.find(top_left) == uf.find(bottom_right)\n",
    "\n",
    "# 测试用例\n",
    "def test_escape_problem():\n",
    "    # 图2中的黑色点坐标\n",
    "    black_points = [\n",
    "        (0, 1), (0, 4), (1, 1), (1, 3),\n",
    "        (2, 0), (2, 2), (2, 4)\n",
    "    ]\n",
    "    \n",
    "    n = 5  # 5x5的网格\n",
    "    result = solve_escape_problem(n, black_points)\n",
    "    print(f\"是否存在逃脱路径: {result}\")\n",
    "test_escape_problem()"
   ],
   "outputs": [
    {
     "name": "stdout",
     "output_type": "stream",
     "text": [
      "是否存在逃脱路径: False\n"
     ]
    }
   ],
   "execution_count": 8
  }
 ],
 "metadata": {
  "language_info": {
   "name": "python"
  },
  "kernelspec": {
   "name": "python3",
   "language": "python",
   "display_name": "Python 3 (ipykernel)"
  }
 },
 "nbformat": 4,
 "nbformat_minor": 2
}
