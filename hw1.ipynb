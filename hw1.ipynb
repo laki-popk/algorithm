{
 "cells": [
  {
   "cell_type": "markdown",
   "metadata": {},
   "source": [
    "## algorithm design and anlysis-2025 spring  homework 1 \n",
    "**Deadline**：2025.5.14\n",
    "\n",
    "**name**:田海宏\n",
    "\n",
    "\n",
    "note：\n",
    "---\n",
    "1. 带有\\*的题目，申请免上课的同学，必须完成，其他同学选作；\n",
    "2. 请独立完成，如求助了他人或者大模型，请著明，并且不可省略算法分析部分；\n",
    "4. 如若作答有雷同，全部取消成绩；\n",
    "3. 需要书面作答的题目，可以通过引用图片的形式添加，但是注意上传项目时包含所引用的图片的源文件；\n",
    "4. $log_n$ 默认表示$log_2{n}$;"
   ]
  },
  {
   "cell_type": "markdown",
   "metadata": {},
   "source": [
    "## 问题 1\n",
    "\n",
    "对于下面的每一对表达式(A, B), A是否能表示为B的 $\\Theta, \\Omega ,O$形式. 请注意, 这些关系中的零个、一个或多个可能成立。列出所有正确的。经常发生一些学生会,把指示写错, 所以请把关系写完整, 例如: $A = O(B),  A =\\Theta(B)$, 或$A = \\Omega(B)$。\n",
    "\n",
    "1. $A=n^2-100n, B=n^2$\n",
    "2. $A=logn, B=log_{1.2}n$\n",
    "3. $A=3^{2n}, B=2^{4n}$\n",
    "4. $A=2^{logn}, B=n$\n",
    "5. $A=\\log{\\log}{n},B=10^{10^{100}}$"
   ]
  },
  {
   "cell_type": "markdown",
   "metadata": {},
   "source": [
    "can refer a handwritten picture, pleas upload the picture in /fig/xxx.png\n",
    "answer:\n",
    "1. $A=\\Theta(B)$,$A = O(B)$,$A = \\Omega(B)$\n",
    "2. $A=\\Theta(B)$,$A = O(B)$,$A = \\Omega(B)$\n",
    "3. $A = O(B)$\n",
    "4. $A=\\Theta(B)$,$A = O(B)$,$A = \\Omega(B)$\n",
    "5. $A = \\Omega(B)$\n"
   ]
  },
  {
   "cell_type": "markdown",
   "metadata": {},
   "source": [
    "## 问题 2：\n",
    "\n",
    "假设有函数 $f$ 和 $g$ 使得 $f(n)$ = $O(g(n))$ 对于下面的每一个陈述, 请判断对错, 如果正确请给出证明, 否则请给出一个反例。\n",
    "\n",
    "1. $\\log{f(n)}$ = $O(\\log(1+g(n)))$\n",
    "2. $3^{f(n)}=O(3^{g(n)})$\n",
    "3. $(f(n))^2=O((g(n))^2)$ "
   ]
  },
  {
   "cell_type": "markdown",
   "metadata": {},
   "source": [
    "you can refer a handwritten picture, pleas upload the picture in /fig/xxx.png\n",
    "answer:\n",
    "<div style=\"width:200px;\"> <img alt=\"\" src=\"./fig/hw1q2_answer.jpg\" width=\"800\"> </div>"
   ]
  },
  {
   "cell_type": "markdown",
   "metadata": {},
   "source": [
    "## 问题 3\n",
    "\n",
    "根据下列递归公式, 计算下列 $T(n)$ 对应的的渐近上界。要求所求的边界尽可能的紧（tight）, 请写明步骤。\n",
    "\n",
    "1. $T(1)=1; T(n)=T(n/4)+1$ for $n>1$\n",
    "2. $T(1)=1;T(n)=3T(n/3)+n^2$ for $n>1$\n",
    "3. $T(1)=1;T(n)=T(2n/3)+1$ for $n>1$\n",
    "4. $T(1)=1;T(n)=5T(n/4)+n$ for $n>1$\n",
    "5. $T(n)=1 \\ for\\ n \\le 2 ; T(n)=T(\\sqrt{n})+1 \\ for \\ n>2$"
   ]
  },
  {
   "cell_type": "markdown",
   "metadata": {},
   "source": [
    "can refer a handwritten picture, pleas upload the picture in /fig/xxx.png\n",
    "answer:\n",
    "<div style=\"width:200px;\"> <img alt=\"\" src=\"./fig/hw1q3_answer.jpg\" width=\"800\"> </div>"
   ]
  },
  {
   "cell_type": "markdown",
   "metadata": {},
   "source": [
    "## 问题 4：\n",
    "\n",
    "给定一个包含n个元素的数组 `profits` , 它的第 `i` 个元素 `profits[i]` 表示一支股票第 `i` 天的**收益**（正数表示涨, 负数表示跌）。你只能选择 **某一天** 买入这只股票, 并选择在 **未来的某一个不同的日子** 卖出该股票。\n",
    "\n",
    "1. 设计一个算法来计算你所能获取的最大利润和对应买入和卖出的日期。请分析算法方案, 计算其时间复杂度, 并且使用python编程实现该算法。\n",
    "\n",
    "2. \\* 设计一个时间复杂度为 $O(n)$的算法实现该算法\n",
    "\n",
    "e.g. :\n",
    "---\n",
    "profits=[3,2,1,-7,5,2,-1,3,-1], 第5天买入, 第8天卖出, 收益最大：9\n",
    "\n"
   ]
  },
  {
   "cell_type": "markdown",
   "metadata": {},
   "source": "idea：暴力解法(O(n²))，将每天的收益转换为累计价格数组，对于每个可能的卖出日，尝试所有可能的买入日，找出差值最大的卖出日和买入日"
  },
  {
   "cell_type": "code",
   "metadata": {
    "ExecuteTime": {
     "end_time": "2025-05-13T02:55:10.464208Z",
     "start_time": "2025-05-13T02:55:10.459968Z"
    }
   },
   "source": [
    "# add your code\n",
    "def max_profit(profits):\n",
    "    n = len(profits)\n",
    "    if n < 2:\n",
    "        return 0, 0, 0\n",
    "    max_kadane = current = profits[0]\n",
    "    start_temp = 0\n",
    "    kadane_start = kadane_end = 0\n",
    "    for i in range(1, n):\n",
    "        if current + profits[i] > profits[i]:\n",
    "            current += profits[i]\n",
    "        else:\n",
    "            current = profits[i]\n",
    "            start_temp = i\n",
    "        if current > max_kadane:\n",
    "            max_kadane = current\n",
    "            kadane_start = start_temp\n",
    "            kadane_end = i\n",
    "    if max_kadane < 0:\n",
    "        min_price = profits[0]\n",
    "        max_diff = -float('inf')\n",
    "        buy_day = sell_day = 0\n",
    "        for i in range(1, n):\n",
    "            if profits[i] - min_price > max_diff:\n",
    "                max_diff = profits[i] - min_price\n",
    "                sell_day = i\n",
    "                buy_day = current_min_index\n",
    "            if profits[i] < min_price:\n",
    "                min_price = profits[i]\n",
    "                current_min_index = i\n",
    "        return max_diff, buy_day + 1, sell_day + 1\n",
    "    else:\n",
    "        sum_profit = sum(profits[kadane_start:kadane_end+1])\n",
    "        return sum_profit, kadane_start + 1, kadane_end + 1\n",
    "\n",
    "profits = [3,2,1,-7,5,2,-1,3,-1]\n",
    "profit, buy, sell = max_profit(profits)\n",
    "print(f\"最大收益: {profit}, 第{buy}天买入, 第{sell}天卖出\")  "
   ],
   "outputs": [
    {
     "name": "stdout",
     "output_type": "stream",
     "text": [
      "最大收益: 9, 第5天买入, 第8天卖出\n"
     ]
    }
   ],
   "execution_count": 13
  },
  {
   "cell_type": "code",
   "execution_count": null,
   "metadata": {},
   "outputs": [],
   "source": [
    "# an algorithm with O(n)"
   ]
  },
  {
   "cell_type": "markdown",
   "metadata": {},
   "source": [
    "## 问题 5：\n",
    "\n",
    "观察下方的分治算法（divide-and-conquer algorithm）的伪代码, 回答下面问题\n",
    "\n",
    "```latex\n",
    "DoSomething(A,p,r)\n",
    "-----\n",
    "n := r-p+1\n",
    "if n=2 and A[p]>A[r] then\n",
    "    swap A[p] and A[r]\n",
    "else if n >= 3 then\n",
    "    m = ceil(2n/3)\n",
    "    DoSomething(A,p,p+m-1)\n",
    "    DoSomething(A,r-m+1,r)\n",
    "    DoSomething(A,p,p+m-1)  \n",
    "    \n",
    "---\n",
    "first call: DoSomething(A,1,n)\n",
    "```\n",
    "\n",
    "note：$ceil(2n/3)=\\left\\lceil {2n/3} \\right\\rceil$；$:=$ 表示赋值, 等价于 $\\to$；A是一个包含n的整数元素的数组, \n",
    "\n",
    "1. 写出该算法时间复杂度的递归公式, 并求解其对应的渐进表示\n",
    "2. 描述一下该算法的功能, 并判断是否是最高效的解决方案\n",
    "3. 使用python编程实现上述算法或其对应的更高效版本的算法\n"
   ]
  },
  {
   "cell_type": "markdown",
   "metadata": {},
   "source": [
    "idea：\n",
    "以上使用递归的形式进行排序，虽然代码简单，但理解困难，并且时间复杂度高，可以考虑其他有效的排序算法。排序算法有：冒泡排序，选择排序，插入排序，希尔排序，归并排序，快速排序，堆排序，基数排序。归并排序或快速排序，可以将时间复杂度降至O(nlogn)，大幅提高效率"
   ]
  },
  {
   "cell_type": "markdown",
   "metadata": {},
   "source": [
    "answer:\n",
    "1. 递归公式：T(n) = 3T(2n/3) + O(1)，当 n ≥ 3  渐进表示：$T(n) = \\Theta(n^{2.71})$\n",
    "2. 功能：使数组中的元素最终会按升序排列。 判断：这不是最高效的排序算法，该算法中存在大量的重复工作，特别是第三次递归调用与第一次完全相同\n",
    "3. 实现"
   ]
  },
  {
   "cell_type": "code",
   "metadata": {
    "ExecuteTime": {
     "end_time": "2025-05-13T02:56:48.535765Z",
     "start_time": "2025-05-13T02:56:48.531427Z"
    }
   },
   "source": [
    "# add your code here\n",
    "# your algorithm time complexity is : O(nlogn)\n",
    "\n",
    "def merge_sort(A):\n",
    "    if len(A) <= 1:\n",
    "        return A\n",
    "    mid = len(A) // 2\n",
    "    left = merge_sort(A[:mid])\n",
    "    right = merge_sort(A[mid:])\n",
    "    result = []\n",
    "    i = j = 0\n",
    "    while i < len(left) and j < len(right):\n",
    "        if left[i] <= right[j]:\n",
    "            result.append(left[i])\n",
    "            i += 1\n",
    "        else:\n",
    "            result.append(right[j])\n",
    "            j += 1\n",
    "    result.extend(left[i:])\n",
    "    result.extend(right[j:])\n",
    "    return result  \n",
    "arr = [9, 3, 2, -5, 5, 7, -3, 4, -1]\n",
    "sorted_arr = merge_sort(arr)  \n",
    "print(\"升序输出:\", sorted_arr)  "
   ],
   "outputs": [
    {
     "name": "stdout",
     "output_type": "stream",
     "text": [
      "升序输出: [-5, -3, -1, 2, 3, 4, 5, 7, 9]\n"
     ]
    }
   ],
   "execution_count": 16
  },
  {
   "cell_type": "markdown",
   "metadata": {},
   "source": [
    "## 问题 6：\n",
    "\n",
    "给定一个大小为 `n` 的数组 `nums` , 返回其中的多数元素。多数元素是指在数组中出现次数 **大于** `⌊ n/2 ⌋` 的元素。\n",
    "\n",
    "你可以假设数组是非空的, 并且给定的数组总是存在多数元素。\n",
    "\n",
    "1. 设计一个算法找到给定数组的多数元素, 分析算法设计思路, 计算算法时间复杂度, 使用python编程实现\n",
    "2. \\* 设计时间复杂度为 O(n)、空间复杂度为 O(1) 的算法解决此问题, 分析算法设计思路, 使用python编程实现\n",
    "\n",
    "e.g.:\n",
    "---\n",
    "1. nums=[3,2,3], 返回3\n",
    "2. nums=[2,2,1,1,1,2,2], 返回2\n"
   ]
  },
  {
   "cell_type": "markdown",
   "metadata": {},
   "source": "idea：将数组排序后，由于多数元素出现次数大于n/2，因此排序后数组的中间位置必然是多数元素。"
  },
  {
   "cell_type": "code",
   "metadata": {
    "ExecuteTime": {
     "end_time": "2025-05-12T11:00:48.997781Z",
     "start_time": "2025-05-12T11:00:48.994487Z"
    }
   },
   "source": [
    "# add your code here\n",
    "# your algorithm time complexity is :O(nlogn)\n",
    "def element_sort(nums):\n",
    "    nums.sort()\n",
    "    return nums[len(nums) // 2]\n",
    "\n",
    "test_cases = [\n",
    "    [3, 2, 3],\n",
    "    [2, 2, 1, 1, 1, 2, 2]\n",
    "]\n",
    "for nums in test_cases:\n",
    "    print(f\"输入: {nums}\")\n",
    "    print(f\"结果为: {element_sort(nums.copy())}\")\n",
    "    print()"
   ],
   "outputs": [
    {
     "name": "stdout",
     "output_type": "stream",
     "text": [
      "输入: [3, 2, 3]\n",
      "结果为: 3\n",
      "\n",
      "输入: [2, 2, 1, 1, 1, 2, 2]\n",
      "结果为: 2\n",
      "\n"
     ]
    }
   ],
   "execution_count": 4
  },
  {
   "cell_type": "markdown",
   "metadata": {},
   "source": [
    "idea for 2\\*："
   ]
  },
  {
   "cell_type": "code",
   "execution_count": null,
   "metadata": {},
   "outputs": [],
   "source": [
    "# algorithm time complexity：O(n), space complexity:O(1)\n",
    "# add your code here"
   ]
  },
  {
   "cell_type": "markdown",
   "metadata": {},
   "source": [
    "## 问题 7：\n",
    "\n",
    "给定一个包含不同整数元素的数组 $ A[1..n]$ ,并且满足条件：$A[1]>A[2]$ 并且 $A[n-1]<A[n]$; 规定：如果一个元素比它两边的邻居元素都小, 即：$A[x]<A[x-1], A[x]<A[x+1]$ , 称这个元素A[x]为“局部最小”。通过遍历一次数组, 我们可以很容易在 $O(n)$的时间复杂度下找到一个局部最小值, \n",
    "\n",
    "\n",
    "1. 分析该问题, 设计一个算法在$O(logn)$的时间复杂度下找到一个局部最小(返回数值), 要求：分析算法设计思路, 并且使用python编程实现\n",
    "2. \\* 设计算法找出所有局部最小值, 分析算法设计思路, 并使用python编程实现\n",
    "\n",
    "e.g.:\n",
    "---\n",
    "A=[9, 3, 7, 2, 1, 4, 5 ] 时,  局部最小元素为 3, 1\n"
   ]
  },
  {
   "cell_type": "markdown",
   "metadata": {},
   "source": "idea：O(logn)的时间复杂度，则可以使用二分查找的思想。（1）如果数组长度为1，直接返回该元素；（2）检查首尾元素是否为局部最小值；（3）使用二分法查找；递归或迭代地继续这个过程"
  },
  {
   "cell_type": "code",
   "metadata": {
    "ExecuteTime": {
     "end_time": "2025-05-13T03:11:31.805971Z",
     "start_time": "2025-05-13T03:11:31.801973Z"
    }
   },
   "source": [
    "# add your code here\n",
    "# your algorithm time complexity is :O(logn)\n",
    "def find_all_local_minima(A):\n",
    "    n = len(A)\n",
    "    if n == 0:\n",
    "        return []\n",
    "    minima = []\n",
    "    if n == 1:\n",
    "        return [A[0]]\n",
    "    if A[0] < A[1]:\n",
    "        minima.append(A[0])\n",
    "    for i in range(1, n-1):\n",
    "        if A[i] < A[i-1] and A[i] < A[i+1]:\n",
    "            minima.append(A[i])\n",
    "    if A[-1] < A[-2]:\n",
    "        minima.append(A[-1])\n",
    "    return minima\n",
    "A = [9, 3, 7, 2, 1, 4, 5]\n",
    "result = find_all_local_minima(A)\n",
    "print(f\"局部最小值: {result}\")  "
   ],
   "outputs": [
    {
     "name": "stdout",
     "output_type": "stream",
     "text": [
      "局部最小值: [3, 1]\n"
     ]
    }
   ],
   "execution_count": 19
  },
  {
   "cell_type": "markdown",
   "metadata": {},
   "source": [
    "idea:"
   ]
  },
  {
   "cell_type": "code",
   "execution_count": null,
   "metadata": {},
   "outputs": [],
   "source": [
    "# add your code here\n",
    "# your algorithm time complexity is :"
   ]
  },
  {
   "cell_type": "markdown",
   "metadata": {},
   "source": [
    "## 问题 8：\n",
    "\n",
    "给定包含n个不同数字的一组数, 寻找一种基于比较的算法在这组数中找到k个最小的数字, 并按顺序输出它们。\n",
    "\n",
    "1. 将n个数先进行排序, 然后按顺序输出最小的k个数。要求：选择合适的排序算法实现上述操作, 计算算法时间复杂度, 并使用python编程实现。\n",
    "2. 建立一个包含这n个数的堆（heap）, 并且调用 k 次Extract-min 按顺序输出最小的k个数。使用往空堆中不断插入元素的方法建立堆, 分析这种方法建堆的时间复杂度, 并使用python编程实现\n",
    "3. \\* 假设数组中包含的数据总数目超过了计算机的存储能力, 请设计一个算法, 找到这堆数据的前k小的数值, 计算时间复杂度, 并使用python实现该算法, 假设计算机一定能存储k个数据。\n",
    "\n",
    "e.g.：\n",
    "---\n",
    "数组arr=[5,4,3,2,6,1,88,33,22,107] 的前3个最小数据为：1, 2, 3\n"
   ]
  },
  {
   "cell_type": "markdown",
   "metadata": {},
   "source": "1.idea：使用归并排序，分割数组至单个元素后合并。每次合并操作遍历全部元素，递归深度为logn，总时间复杂度 O(nlogn)"
  },
  {
   "cell_type": "code",
   "metadata": {
    "ExecuteTime": {
     "end_time": "2025-05-13T03:13:29.081586Z",
     "start_time": "2025-05-13T03:13:29.077588Z"
    }
   },
   "source": [
    "# add your code here\n",
    "# your algorithm time complexity is :O(nlogn)\n",
    "def findKSmallest(arr, k):\n",
    "    def merge(left, right):\n",
    "        merged = []\n",
    "        i = j = 0\n",
    "        while i < len(left) and j < len(right):\n",
    "            if left[i] < right[j]:\n",
    "                merged.append(left[i])\n",
    "                i += 1\n",
    "            else:\n",
    "                merged.append(right[j])\n",
    "                j += 1\n",
    "        merged += left[i:]\n",
    "        merged += right[j:]\n",
    "        return merged\n",
    "    \n",
    "    if len(arr) <= 1:\n",
    "        sorted_arr = arr\n",
    "    else:\n",
    "        mid = len(arr) // 2\n",
    "        left = findKSmallest(arr[:mid], mid)\n",
    "        right = findKSmallest(arr[mid:], len(arr)-mid)\n",
    "        sorted_arr = merge(left, right)\n",
    "    \n",
    "    return sorted_arr[:k] if k <= len(arr) else sorted_arr\n",
    "arr = [5,4,3,2,6,1,88,33,22,107]\n",
    "print(findKSmallest(arr, 3))  "
   ],
   "outputs": [
    {
     "name": "stdout",
     "output_type": "stream",
     "text": [
      "[1, 2, 3]\n"
     ]
    }
   ],
   "execution_count": 21
  },
  {
   "metadata": {},
   "cell_type": "markdown",
   "source": "2.idea：逐个插入n个元素，每次插入调整堆结构耗时O(logn)，总时间O(nlogn)；然后提取k次最小值：每次提取后调整堆耗时O(logn)，总时间O(klogn)。最终时间为O(nlogn + klogn)"
  },
  {
   "metadata": {
    "ExecuteTime": {
     "end_time": "2025-05-13T03:14:03.469156Z",
     "start_time": "2025-05-13T03:14:03.464156Z"
    }
   },
   "cell_type": "code",
   "source": [
    "# add your code here\n",
    "# your algorithm time complexity is :O(nlogn + klogn)\n",
    "import heapq\n",
    "def findKSmallest_heap(arr, k):\n",
    "    heap = []\n",
    "    for num in arr:\n",
    "        heapq.heappush(heap, num)\n",
    "    result = []\n",
    "    for _ in range(k):\n",
    "        result.append(heapq.heappop(heap))\n",
    "    return result\n",
    "arr = [5,4,3,2,6,1,88,33,22,107]\n",
    "print(findKSmallest_heap(arr, 3))"
   ],
   "outputs": [
    {
     "name": "stdout",
     "output_type": "stream",
     "text": [
      "[1, 2, 3]\n"
     ]
    }
   ],
   "execution_count": 22
  },
  {
   "cell_type": "markdown",
   "metadata": {},
   "source": [
    "## 问题 9：\n",
    "\n",
    "**选择问题**:给定一个包含n个未排序值的数组A和一个$k≤n$的整数, 返回A中最小的第k项。\n",
    "\n",
    "在课堂上, 学了一个简单的O(n)随机算法来解决选择问题。事实上还有一种更复杂的最坏情况下时间复杂度为$O(n)$ 的选择算法。假设使用一个黑盒过程来实现这个O(n)选择算法: 给定一个数组A、 $p < r$ 和 k,  $BB(A, p, r, k)$ 可以在$O(r−p+ 1)$时间内找到并报告$A[p..r]$中第k小的项的下标。假设你可以在线性时间内处理Partition过程。\n",
    "\n",
    "1. 请分析如何修改 Quicksork 算法可以使其最差情况下的运行时间为 $O(nlogn)$, 使用伪代码实现, 并分析为何修改后的版本最差情况的运行时间为$O(nlogn)$\n",
    "\n",
    "note: 伪代码中, 你可以直接调用用` BB(A,p,r,k)`这个函数用于表示在最坏情况下时间复杂度为$O(n)$的选择算法；\n",
    "\n",
    "\n",
    "\n",
    "2. 找到一个更好的算法报告数组A中的前k小的项, 使用伪代码表示你的算法, 并分析你算法的时间复杂度。\n",
    "\n",
    "举例：A=[13, 3, 7, 9, 11, 1, 15, 2, 8, 10, 12, 16, 14, 5], 当k=4时, 应该报告1, 2, 3, 4\n",
    "\n",
    "note： 最直观的方法就是先将数组A排序, 然后从左向右报告其前k项, 这样操作的时间复杂度为$O(nlogn)$. 调用用` BB(A,p,r,k)`设计一个算法使其报告无序数组A的前k项, 满足时间复杂度好于$\\Theta(nlogn)$, 并且当$k=\\sqrt{n}$时, 你设计的算法时间复杂度应该为$\\Theta(n)$.\n",
    "\n",
    "\n",
    "\n",
    "3. 给定一个大小为n的数组, 找到一个 时间复杂度为$O(n log k)$ 的算法, 该算法将A中的元素重新排序, 使它们被划分为k个部分, 每个部分的元素小于或等于下一部分的元素。假设n和k都是2的幂。使用伪代码表示你的算法, 并分析时间复杂度。\n",
    "\n",
    "e.g.:\n",
    "---\n",
    "数组：[1,  3,  5,  7,  9,  11,  13,  15,  2,  4,  6,  8,  10,  12,  16,  14], k=4, \n",
    "\n",
    "对应重新排序的数组为：[1,  3,  2,  4]  [7,  6,  5,  8]  [12,  11,  10,  9]  [13,  14,  16,  15]\n",
    "\n",
    "\n"
   ]
  },
  {
   "cell_type": "markdown",
   "metadata": {},
   "source": [
    "1.idea：通过选择中位数，确保快速排序的最坏时间复杂度为 O(nlogn)。\n",
    "分析：每次递归调用时，用BB选择中位数，确保数组被均分。递归深度为 O(logn)，每层处理O(n)时间，则最坏时间复杂度为 O(nlogn)"
   ]
  },
  {
   "cell_type": "code",
   "execution_count": null,
   "metadata": {},
   "outputs": [],
   "source": [
    "# add your pseudo-code here\n",
    "QuickSort(A, p, r):\n",
    "    if p < r:\n",
    "        k = (r - p + 1) // 2  \n",
    "        mid = BB(A, p, r, k)   # 调用黑盒找中位数\n",
    "        swap A[mid] with A[r]  # 将中位数移到末尾\n",
    "        q = Partition(A, p, r)\n",
    "        QuickSort(A, p, q-1)\n",
    "        QuickSort(A, q+1, r)"
   ]
  },
  {
   "metadata": {},
   "cell_type": "markdown",
   "source": [
    "2.idea：结合线性选择算法和部分排序，将前k小元素的时间优化到 O(n+klogk)。\n",
    "分析：BB耗时O(n)。收集元素耗时O(n)。对结果排序耗时O(klogk)。总时间复杂度为O(n+klogk)。当k=√n时，klogk=O(√nlog n)<<O(n)，总时间为O(n)"
   ]
  },
  {
   "metadata": {},
   "cell_type": "code",
   "outputs": [],
   "execution_count": null,
   "source": [
    "# add your pseudo-code here\n",
    "FindKSmallest(A, k):\n",
    "    if k == 0:\n",
    "        return []\n",
    "    x_index = BB(A, 0, len(A)-1, k)         # 找到第k小元素的位置\n",
    "    x = A[x_index]\n",
    "    less = [a for a in A if a < x]          # 收集所有小于x的元素\n",
    "    equal = [a for a in A if a == x]        # 收集等于x的元素\n",
    "    result = less + equal[0:k-len(less)]    # 合并至k个元素\n",
    "    MergeSort(result)                       # 对结果排序\n",
    "    return result"
   ]
  },
  {
   "metadata": {},
   "cell_type": "markdown",
   "source": [
    "3.idea：分治策略结合黑盒选择算法，实现O(nlogk)的数组划分。\n",
    "分析：每层递归调用处理整个数组，BB和划分耗时O(n)。递归深度为logk（k是2的幂）。总时间复杂度为O(nlogk)"
   ]
  },
  {
   "metadata": {},
   "cell_type": "code",
   "outputs": [],
   "execution_count": null,
   "source": [
    "# add your pseudo-code here\n",
    "PartitionKSections(A, k):\n",
    "    if k == 1:\n",
    "        return [A]\n",
    "    mid_k = k // 2\n",
    "    n = len(A)\n",
    "    target_rank = mid_k * n // k                       # 中间分界点的秩\n",
    "    pivot_index = BB(A, 0, n-1, target_rank)           # 找到分界点\n",
    "    pivot = A[pivot_index]\n",
    "    left = [x for x in A if x <= pivot]                # 左半部分\n",
    "    right = [x for x in A if x > pivot]                # 右半部分\n",
    "    left_parts = PartitionKSections(left, mid_k)       # 递归处理左半\n",
    "    right_parts = PartitionKSections(right, k - mid_k) # 递归处理右半\n",
    "    return left_parts + right_parts"
   ]
  },
  {
   "cell_type": "markdown",
   "metadata": {},
   "source": [
    "## 问题 10：\n",
    "\n",
    "给定一个包含m个**字符串**的数组A, 其中不同的字符串可能有不同的字符数, 但数组中所有字符串的字符总数为n。设计一个算法在 $O(n)$ 时间内对字符串进行排序, 分析算法设计方案, 计算其时间复杂度, 并基于python编程实现该算法。请注意, 假设字符串只包含\"a\",\"b\",...,\"z\", \n",
    "\n",
    "\n",
    "\n",
    "举例1：数组A=[\"a\", \"da\", \"bde\", \"ab\", \"bc\", \"abdc\", \"cdba\"], 排序后的数组应该为：['a', 'ab', 'abdc', 'bc', 'bde', 'cdba', 'da']\n",
    "\n",
    "\n",
    "\n",
    "举例2：数组A=['ab', 'a', 'b', 'abc', 'ba', 'c'], 排序后的数组应该为：\n",
    "\n",
    "['a', 'ab', 'abc', 'b', 'ba', 'c']\n",
    "\n",
    "\n",
    "\n",
    "举例3：数组A=['aef', 'yzr', 'wr', 'ab', 'bhjc', 'lkabdc', 'pwcdba'],  排序后的数组应该为：['ab', 'aef', 'bhjc', 'lkabdc', 'pwcdba', 'wr', 'yzr']\n",
    "\n",
    "\n",
    "\n",
    "note：\n",
    "\n",
    "-  两个字符之间的比较可以考虑比较他们对应的ASCII码值；\n",
    "- python中可以使用`ord(\"a\")`返回字符 “a”对应的ASCII值"
   ]
  },
  {
   "cell_type": "markdown",
   "metadata": {},
   "source": [
    "idea:要解决在O(n)时间内对字符串数组进行排序的问题，可以利用前缀树数据结构。前缀树能够高效处理字符串的字典序排序，并确保每个字符仅被处理一次，从而满足线性时间复杂度要求。\n",
    "先构建前缀树。将所有字符串插入到前缀树中，每个节点表示一个字符，路径表示字符串的前缀。每个节点记录字符串的结束次数以处理重复字符串。然后进行深度优先遍历：按字符顺序（a到z）遍历前缀树，收集所有字符串，确保生成的列表按字典序排列。"
   ]
  },
  {
   "cell_type": "code",
   "metadata": {
    "ExecuteTime": {
     "end_time": "2025-05-13T03:19:56.472707Z",
     "start_time": "2025-05-13T03:19:56.467778Z"
    }
   },
   "source": [
    "# add your code here\n",
    "# your algorithm time complexity is :O(n)\n",
    "class TrieNode:\n",
    "    def __init__(self):\n",
    "        self.children = {}\n",
    "        self.count = 0\n",
    "\n",
    "def sortStrings(A):\n",
    "    root = TrieNode()\n",
    "    for s in A:\n",
    "        node = root\n",
    "        for char in s:\n",
    "            if char not in node.children:\n",
    "                node.children[char] = TrieNode()\n",
    "            node = node.children[char]\n",
    "        node.count += 1\n",
    "    \n",
    "    result = []\n",
    "    def dfs(node, current_str):\n",
    "        if node.count > 0:\n",
    "            result.extend([current_str] * node.count)\n",
    "        for char in sorted(node.children.keys(), key=lambda x: ord(x)):\n",
    "            dfs(node.children[char], current_str + char)\n",
    "    \n",
    "    dfs(root, \"\")\n",
    "    return result\n",
    "\n",
    "A0 = [\"a\", \"da\", \"bde\", \"ab\", \"bc\", \"abdc\", \"cdba\"]\n",
    "result1 = sortStrings(A0)\n",
    "print(result1)\n",
    "    \n",
    "A1 = ['ab', 'a', 'b', 'abc', 'ba', 'c']\n",
    "result2 = sortStrings(A1)\n",
    "print(result2)\n",
    "    \n",
    "A2 = ['aef', 'yzr', 'wr', 'ab', 'bhjc', 'lkabdc', 'pwcdba']\n",
    "result3 = sortStrings(A2)\n",
    "print(result3)\n"
   ],
   "outputs": [
    {
     "name": "stdout",
     "output_type": "stream",
     "text": [
      "['a', 'ab', 'abdc', 'bc', 'bde', 'cdba', 'da']\n",
      "['a', 'ab', 'abc', 'b', 'ba', 'c']\n",
      "['ab', 'aef', 'bhjc', 'lkabdc', 'pwcdba', 'wr', 'yzr']\n"
     ]
    }
   ],
   "execution_count": 25
  }
 ],
 "metadata": {
  "language_info": {
   "name": "python"
  },
  "kernelspec": {
   "name": "python3",
   "language": "python",
   "display_name": "Python 3 (ipykernel)"
  }
 },
 "nbformat": 4,
 "nbformat_minor": 2
}
