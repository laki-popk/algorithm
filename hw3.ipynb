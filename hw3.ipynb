{
 "cells": [
  {
   "cell_type": "markdown",
   "metadata": {},
   "source": [
    "## algorithm design and anlysis-2025 spring  homework 3\n",
    "**Deadline**：2025.5.14\n",
    "\n",
    "**name**:田海宏\n",
    "\n",
    "\n",
    "note：\n",
    "---\n",
    "1. 带有\\*的题目，申请免上课的同学，必须完成，其他同学选作；\n",
    "2. 请独立完成，如求助了他人或者大模型，请著明，并且不可省略算法分析部分；\n",
    "4. 如若作答有雷同，全部取消成绩；\n",
    "3. 需要书面作答的题目，可以通过引用图片的形式添加，但是注意上传项目时包含所引用的图片的源文件；\n",
    "4. $log_n$ 默认表示$log_2{n}$;"
   ]
  },
  {
   "cell_type": "markdown",
   "metadata": {},
   "source": [
    "## 问题 1  \n",
    "\n",
    "请证明基于比较的排序算法计算复杂度下界为$\\Omega(nlogn)$"
   ]
  },
  {
   "cell_type": "markdown",
   "metadata": {},
   "source": [
    "you can refer a handwritten picture, pleas upload the picture in /fig/xxx.png\n",
    "answer：\n",
    "<div style=\"width:200px;\"> <img alt=\"\" src=\"./fig/hw3q1_answer.jpg\" width=\"800\"> </div>"
   ]
  },
  {
   "cell_type": "markdown",
   "metadata": {},
   "source": [
    "## 问题 2 \n",
    "\n",
    "构建二叉搜索树\n",
    "\n",
    "> 1. 给定一个数组 [48, 33, 49, 47, 42, 46, 32], 构建一个二叉搜索树存储这些数据，请**绘制**所构建的**二叉搜索树**（标明结点的值）。\n",
    "> 2. 从第1问的二叉搜索树中删除33，请**绘制**删除33后的**二叉搜索树**（标明结点的值）\n",
    "\n",
    "- 推荐使用graphviz包绘制树的结构"
   ]
  },
  {
   "cell_type": "markdown",
   "metadata": {},
   "source": [
    "you can refer a handwritten picture, pleas upload the picture in /fig/xxx.png\n",
    "answer：\n",
    "<div style=\"width:200px;\"> <img alt=\"\" src=\"./fig/hw3q2_answer.jpg\" width=\"800\"> </div>"
   ]
  },
  {
   "cell_type": "markdown",
   "metadata": {},
   "source": [
    "## 问题 3 \n",
    "\n",
    "> 下面是九门课程的开始和结束时间:\n",
    ">\n",
    "> [(9:00,12:30), (11:00,14:00), (13:00, 14:30), (9:00,10:30),(13:00, 14:30),(14:00,16:30), (15:00,16:30), (15:00,16:30), (9:00,10:30)]\n",
    ">\n",
    "> 请使用贪婪算法为这九门课分配教室，要求在同一天内安排这些课，并且每个教室同一时间只能安排一门课。\n",
    "\n",
    "**请问最少需要几间教室，罗列出每个教室安排的课程**"
   ]
  },
  {
   "cell_type": "markdown",
   "metadata": {},
   "source": "idea：首先，对每个课程按开始时间进行排序；然后对每个课程，选择第一个可用的教室，维护每个教室的结束时间，若无可用教室时，新增一间"
  },
  {
   "cell_type": "code",
   "metadata": {
    "vscode": {
     "languageId": "plaintext"
    },
    "ExecuteTime": {
     "end_time": "2025-05-13T04:15:36.546651Z",
     "start_time": "2025-05-13T04:15:36.540579Z"
    }
   },
   "source": [
    "# add your idea here\n",
    "# your algorithm time complexity is: O(n²)\n",
    "def convert_time_to_minutes(time_str):\n",
    "    hours, minutes = time_str.split(':')\n",
    "    return int(hours) * 60 + int(minutes)\n",
    "\n",
    "def convert_minutes_to_time(minutes):\n",
    "    hours = minutes // 60\n",
    "    mins = minutes % 60\n",
    "    return f\"{hours:02d}:{mins:02d}\"\n",
    "\n",
    "original_courses = [\n",
    "    ('9:00', '12:30'),    # 课程1\n",
    "    ('11:00', '14:00'),   # 课程2\n",
    "    ('13:00', '14:30'),   # 课程3\n",
    "    ('9:00', '10:30'),    # 课程4\n",
    "    ('13:00', '14:30'),   # 课程5\n",
    "    ('14:00', '16:30'),   # 课程6\n",
    "    ('15:00', '16:30'),   # 课程7\n",
    "    ('15:00', '16:30'),   # 课程8\n",
    "    ('9:00', '10:30')     # 课程9\n",
    "]\n",
    "\n",
    "course_list = []\n",
    "for course_num, (start_time, end_time) in enumerate(original_courses, 1):\n",
    "    start_min = convert_time_to_minutes(start_time)\n",
    "    end_min = convert_time_to_minutes(end_time)\n",
    "    course_list.append( (start_min, end_min, course_num) )\n",
    "\n",
    "sorted_courses = sorted(course_list, key=lambda x: (x[0], x[1]))\n",
    "\n",
    "classrooms = []\n",
    "\n",
    "for course in sorted_courses:\n",
    "    start, end, num = course\n",
    "    placed = False\n",
    "    for room in classrooms:\n",
    "        if room[\"end_time\"] <= start:\n",
    "            room[\"courses\"].append( (num, start, end) )\n",
    "            room[\"end_time\"] = end\n",
    "            placed = True\n",
    "            break\n",
    "    if not placed:\n",
    "        classrooms.append( {\"end_time\": end, \"courses\": [(num, start, end)]} )\n",
    "\n",
    "for room_num, room in enumerate(classrooms, 1):\n",
    "    print(f\"教室{room_num}:\")\n",
    "    for course in sorted(room[\"courses\"], key=lambda x: x[1]):\n",
    "        num, start, end = course\n",
    "        print(f\"{convert_minutes_to_time(start)}-{convert_minutes_to_time(end)} \")\n",
    "\n",
    "print(f\"最少需要 {len(classrooms)} 间教室\")\n"
   ],
   "outputs": [
    {
     "name": "stdout",
     "output_type": "stream",
     "text": [
      "教室1:\n",
      "09:00-10:30 \n",
      "11:00-14:00 \n",
      "14:00-16:30 \n",
      "教室2:\n",
      "09:00-10:30 \n",
      "13:00-14:30 \n",
      "15:00-16:30 \n",
      "教室3:\n",
      "09:00-12:30 \n",
      "13:00-14:30 \n",
      "15:00-16:30 \n",
      "最少需要 3 间教室\n"
     ]
    }
   ],
   "execution_count": 15
  },
  {
   "cell_type": "markdown",
   "metadata": {},
   "source": [
    "## 问题 4 \n",
    "\n",
    "> 爬楼梯问题：假设爬楼梯时你每次只能爬一阶或者爬两阶，问爬上n阶的楼梯，你一共有多少种方法\n",
    "\n",
    "请设计算法完成该问题，分析算法设计思路，计算时间复杂度，并基于python编程实现"
   ]
  },
  {
   "cell_type": "markdown",
   "metadata": {},
   "source": "idea：这个问题可以通过动态规划解决。假设到达第n阶的方法数为f(n)，则递推公式为：f(n) = f(n-1) + f(n-2)，通过迭代计算最终可计算得出"
  },
  {
   "cell_type": "code",
   "metadata": {
    "ExecuteTime": {
     "end_time": "2025-05-13T04:19:14.593226Z",
     "start_time": "2025-05-13T04:19:14.589863Z"
    }
   },
   "source": [
    "# add your code here\n",
    "# your algorithm time complexity is: O(n)\n",
    "def count_ways_to_climb(steps):\n",
    "    if steps == 0 or steps == 1:\n",
    "        return 1\n",
    "    two_steps_ago = 1\n",
    "    one_step_ago = 1\n",
    "    for i in range(2, steps + 1):\n",
    "        current_step = two_steps_ago + one_step_ago\n",
    "        two_steps_ago = one_step_ago\n",
    "        one_step_ago = current_step\n",
    "    return one_step_ago\n",
    "\n",
    "print(f\"爬5阶楼梯，共 {count_ways_to_climb(5)} 种方法\")\n"
   ],
   "outputs": [
    {
     "name": "stdout",
     "output_type": "stream",
     "text": [
      "爬5阶楼梯，共 8 种方法\n"
     ]
    }
   ],
   "execution_count": 17
  },
  {
   "cell_type": "markdown",
   "metadata": {},
   "source": [
    "## 问题 5 \n",
    "\n",
    "> 0-1背包问题：现在有4块大理石，每个大理石对应的重量和价值使用一个元组表示, 即（重量，价值），4块大理石的重量和价值为：[(5,10), (4,40), (6,30), (3, 50)], 假设你有一辆最大承重为9的小推车，请问使用这个小推车装大理石的最大价值为多少\n",
    "\n",
    "请设计一个算法解决该问题，分析算法设计思路，计算时间复杂度，并基于python编程实现"
   ]
  },
  {
   "cell_type": "markdown",
   "metadata": {},
   "source": "idea：0-1背包问题可以通过动态规划解决。定义dp[w]表示承重不超过w时的最大价值。遍历每个物品，对于每个重量从最大承重倒序更新，确保每个物品只被考虑一次"
  },
  {
   "cell_type": "code",
   "metadata": {
    "ExecuteTime": {
     "end_time": "2025-05-13T04:20:16.634544Z",
     "start_time": "2025-05-13T04:20:16.629451Z"
    }
   },
   "source": [
    "# add your code here\n",
    "# your algorithm time complexity is:O(nW)\n",
    "def calculate_max_value(capacity, items):\n",
    "    max_values = [0] * (capacity + 1)\n",
    "    for item_weight, item_value in items:\n",
    "        for current_weight in range(capacity, item_weight - 1, -1):\n",
    "            if max_values[current_weight - item_weight] + item_value > max_values[current_weight]:\n",
    "                max_values[current_weight] = max_values[current_weight - item_weight] + item_value\n",
    "    return max_values[capacity]\n",
    "\n",
    "items = [(5, 10), (4, 40), (6, 30), (3, 50)]\n",
    "max_weight = 9\n",
    "print(calculate_max_value(max_weight, items))  "
   ],
   "outputs": [
    {
     "name": "stdout",
     "output_type": "stream",
     "text": [
      "90\n"
     ]
    }
   ],
   "execution_count": 18
  },
  {
   "cell_type": "markdown",
   "metadata": {},
   "source": [
    "## 问题 6 \n",
    "给定 `n` 个非负整数表示每个宽度为 `1` 的柱子的高度图，计算按此排列的柱子，下雨之后能接多少雨水。\n",
    "\n",
    "\n",
    "\n",
    "<div style=\"text-align:center;width:800px;\"> <img alt=\"\" src=\"./fig/hw3q6.png\"> </div>\n",
    "\n",
    "请分析算法设计思路，计算时间复杂度，并基于python编程实现"
   ]
  },
  {
   "cell_type": "markdown",
   "metadata": {},
   "source": "idea：首先，遍历数组，记录每个位置的左侧最大高度和右侧最大高度；然后，对于每个位置，计算雨水量为 min(左侧最大高度, 右侧最大高度) - 当前高度，若结果为正则累加。"
  },
  {
   "cell_type": "code",
   "metadata": {
    "ExecuteTime": {
     "end_time": "2025-05-13T04:21:00.599153Z",
     "start_time": "2025-05-13T04:21:00.594321Z"
    }
   },
   "source": [
    "# add your code here\n",
    "# your algorithm time complexity is:O(n)\n",
    "def calculate_trapped_water(heights):\n",
    "    n = len(heights)\n",
    "    if n == 0:\n",
    "        return 0\n",
    "    \n",
    "    left_max_heights = [0] * n\n",
    "    left_max_heights[0] = heights[0]\n",
    "    for i in range(1, n):\n",
    "        left_max_heights[i] = max(left_max_heights[i-1], heights[i])\n",
    "    \n",
    "    right_max_heights = [0] * n\n",
    "    right_max_heights[-1] = heights[-1]\n",
    "    for i in range(n-2, -1, -1):\n",
    "        right_max_heights[i] = max(right_max_heights[i+1], heights[i])\n",
    "    \n",
    "    total_water = 0\n",
    "    for i in range(n):\n",
    "        water_level = min(left_max_heights[i], right_max_heights[i]) - heights[i]\n",
    "        if water_level > 0:\n",
    "            total_water += water_level\n",
    "    \n",
    "    return total_water\n",
    "\n",
    "print(calculate_trapped_water([0,1,0,2,1,0,1,3,2,1,2,1]))\n",
    "print(calculate_trapped_water([4,2,0,3,2,5]))                                 \n"
   ],
   "outputs": [
    {
     "name": "stdout",
     "output_type": "stream",
     "text": [
      "6\n",
      "9\n"
     ]
    }
   ],
   "execution_count": 19
  },
  {
   "cell_type": "markdown",
   "metadata": {},
   "source": [
    "## 问题 7 \n",
    "\n",
    "**股票投资组合优化**： 假设你是一位投资者，想要在不同的股票中分配你的资金，以最大化你的投资回报。每只股票都有不同的预期收益率和风险。你的目标是选择一些股票，使得总投资金额不超过你的预算，并且预期收益最大化。\n",
    "\n",
    "在这个情况下，你可以将每只股票视为一个“物品”，其重量为投资金额，价值为预期收益率。然后，你可以使用分级背包问题的方法来选择部分股票，以便在预算内获得最大的预期收益。\n",
    "\n",
    "以下是一个简化的例子：\n",
    "\n",
    "假设你有以下三只股票可供选择：\n",
    "\n",
    "1. 股票 A：投资金额 5000 美元，预期收益率 10%\n",
    "2. 股票 B：投资金额 3000 美元，预期收益率 8%\n",
    "3. 股票 C：投资金额 2000 美元，预期收益率 12%\n",
    "\n",
    "请设计算法找到最优投资方案，分析算法设计思路，计算时间复杂度，并基于python编程实现"
   ]
  },
  {
   "cell_type": "markdown",
   "metadata": {},
   "source": "idea：首先，定义dp[w]表示预算为w时的最大收益；然后，遍历每个股票，逆序更新预算范围，确保每个股票只被选一次；然后得到状态转移方程：dp[w] = max(dp[w], dp[w - cost] + profit)；最后，即可得到投资方案"
  },
  {
   "cell_type": "code",
   "metadata": {
    "ExecuteTime": {
     "end_time": "2025-05-13T04:24:03.741289Z",
     "start_time": "2025-05-13T04:24:03.733069Z"
    }
   },
   "source": [
    "# add your code here\n",
    "# your algorithm time complexity is:O(n·budget)\n",
    "def calculate_max_profit_and_stocks(budget, stocks):\n",
    "    dp = [0] * (budget + 1)\n",
    "    choices = [[] for _ in range(budget + 1)]\n",
    "    \n",
    "    for i, (stock_cost, stock_profit) in enumerate(stocks):\n",
    "        for current_budget in range(budget, stock_cost - 1, -1):\n",
    "            prev_profit = dp[current_budget]\n",
    "            new_profit = dp[current_budget - stock_cost] + stock_profit\n",
    "            \n",
    "            if new_profit > prev_profit:\n",
    "                dp[current_budget] = new_profit\n",
    "                choices[current_budget] = choices[current_budget - stock_cost] + [i]\n",
    "    \n",
    "    max_profit = dp[budget]\n",
    "    selected_indices = choices[budget]\n",
    "    stock_letters = [chr(65 + i) for i in selected_indices]\n",
    "    \n",
    "    return max_profit, stock_letters\n",
    "\n",
    "# 验证示例\n",
    "stocks = [(5000, 500), (3000, 240), (2000, 240)]\n",
    "\n",
    "profit, selected = calculate_max_profit_and_stocks(8000, stocks)\n",
    "print(f\"预算8000，最大利润: {profit}，选择股票: {', '.join(selected)}\")\n",
    "\n",
    "profit, selected = calculate_max_profit_and_stocks(7000, stocks)\n",
    "print(f\"预算7000，最大利润: {profit}，选择股票: {', '.join(selected)}\")\n",
    "\n",
    "profit, selected = calculate_max_profit_and_stocks(2000, stocks)\n",
    "print(f\"预算2000，最大利润: {profit}，选择股票: {', '.join(selected)}\")"
   ],
   "outputs": [
    {
     "name": "stdout",
     "output_type": "stream",
     "text": [
      "预算8000，最大利润: 740，选择股票: A, B\n",
      "预算7000，最大利润: 740，选择股票: A, C\n",
      "预算2000，最大利润: 240，选择股票: C\n"
     ]
    }
   ],
   "execution_count": 21
  },
  {
   "cell_type": "markdown",
   "metadata": {},
   "source": [
    "## 问题 8\n",
    "\n",
    "给你二叉搜索树的根节点 root ，该树中的恰好两个节点的值被错误地交换。请在不改变其结构的情况下，恢复这棵树 。设计算法解决该问题，分析算法设计思路，计算时间复杂度，并基于python编程实现\n",
    "\n",
    "e.g.:\n",
    "---\n",
    "1.\n",
    "\n",
    "<div style=\"text-align:center;width:200px;\"> <img alt=\"\" src=\"./fig/hw3q9-1.jpg\"> </div>\n",
    "输入：root = [1,3,null,null,2]， 输出为：[3,1,null,null,2]， \n",
    "\n",
    "解释：3 不能是 1 的左孩子，因为 3 > 1 。交换 1 和 3 使二叉搜索树有效。\n",
    "\n",
    "2.\n",
    "\n",
    " <div style=\"text-align:center;width:200px;\"> <img alt=\"\" src=\"./fig/hw3q9-1.jpg\"> </div>\n",
    "输入： root=[3,1,4,null,null,2]， 输出为：[2,1,4,null,null,3]\n",
    "\n",
    "解释：2 不能在 3 的右子树中，因为 2 < 3 。交换 2 和 3 使二叉搜索树有效。"
   ]
  },
  {
   "cell_type": "markdown",
   "metadata": {},
   "source": "idea：二叉搜索树的中序遍历结果应为递增序列。交换两个节点会导致序列中出现两个逆序对。首先，中序遍历树，用prev记录前驱节点；然后，当当前节点值小于prev时，标记第一个错误节点为prev，第二个错误节点为当前节点；其次，遍历结束后交换这两个节点的值。\n"
  },
  {
   "cell_type": "code",
   "metadata": {
    "ExecuteTime": {
     "end_time": "2025-05-13T04:25:44.429871Z",
     "start_time": "2025-05-13T04:25:44.423637Z"
    }
   },
   "source": [
    "# add your code here\n",
    "# your algorithm time complexity is:O(n)\n",
    "class TreeNode:\n",
    "    def __init__(self, value=0, left=None, right=None):\n",
    "        self.value = value\n",
    "        self.left = left\n",
    "        self.right = right\n",
    "\n",
    "def fix_bst(root):\n",
    "    first_wrong = None\n",
    "    second_wrong = None\n",
    "    previous_node = None\n",
    "\n",
    "    def inorder_traversal(node):\n",
    "        nonlocal first_wrong, second_wrong, previous_node\n",
    "        if not node:\n",
    "            return\n",
    "        inorder_traversal(node.left)\n",
    "        if previous_node and node.value < previous_node.value:\n",
    "            if not first_wrong:\n",
    "                first_wrong = previous_node\n",
    "            second_wrong = node\n",
    "        previous_node = node\n",
    "        inorder_traversal(node.right)\n",
    "\n",
    "    inorder_traversal(root)\n",
    "    if first_wrong and second_wrong:\n",
    "        first_wrong.value, second_wrong.value = second_wrong.value, first_wrong.value\n",
    "\n",
    "def create_tree(values):\n",
    "    if not values:\n",
    "        return None\n",
    "    root = TreeNode(values[0])\n",
    "    queue = [root]\n",
    "    index = 1\n",
    "    while queue and index < len(values):\n",
    "        current_node = queue.pop(0)\n",
    "        if values[index] is not None:\n",
    "            current_node.left = TreeNode(values[index])\n",
    "            queue.append(current_node.left)\n",
    "        index += 1\n",
    "        if index < len(values) and values[index] is not None:\n",
    "            current_node.right = TreeNode(values[index])\n",
    "            queue.append(current_node.right)\n",
    "        index += 1\n",
    "    return root\n",
    "\n",
    "def tree_to_list(root):\n",
    "    if not root:\n",
    "        return []\n",
    "    result = []\n",
    "    queue = [root]\n",
    "    while queue:\n",
    "        node = queue.pop(0)\n",
    "        if node:\n",
    "            result.append(node.value)\n",
    "            queue.append(node.left)\n",
    "            queue.append(node.right)\n",
    "        else:\n",
    "            result.append(None)\n",
    "    while result and result[-1] is None:\n",
    "        result.pop()\n",
    "    return result\n",
    "\n",
    "root1 = create_tree([1, 3, None, None, 2])\n",
    "fix_bst(root1)\n",
    "print(tree_to_list(root1))\n",
    "\n",
    "root2 = create_tree([3, 1, 4, None, None, 2])\n",
    "fix_bst(root2)\n",
    "print(tree_to_list(root2))   \n"
   ],
   "outputs": [
    {
     "name": "stdout",
     "output_type": "stream",
     "text": [
      "[3, 1, None, None, 2]\n",
      "[2, 1, 4, None, None, 3]\n"
     ]
    }
   ],
   "execution_count": 22
  },
  {
   "cell_type": "markdown",
   "metadata": {},
   "source": [
    "## 问题 9  \n",
    "\n",
    "给你一个二叉树的根节点 root ，树中每个节点都存放有一个 0 到 9 之间的数字。每条从根节点到叶节点的路径都代表一个数字：\n",
    "\n",
    "> 例如，从根节点到叶节点的路径 1 -> 2 -> 3 表示数字 123 。\n",
    "\n",
    "设计一个算法计算从根节点到叶节点生成的所有数字之和 ，分析算法设计思路，计算时间复杂度，并基于python编程实现\n",
    "\n",
    "叶节点:是指没有子节点的节点。\n",
    "\n",
    "e.g.:\n",
    "---\n",
    "1.\n",
    "\n",
    " <div style=\"text-align:center;width:200px;\"> <img alt=\"figure\" src=\"./fig/hw3q10-1.jpg\"> </div>\n",
    "\n",
    " 输入：root = [1,2,3], 输出：25\n",
    "\n",
    "解释：从根到叶子节点路径 1->2 代表数字 12，1->3 代表数字 13，因此和为 12 + 13 = 25 。\n",
    "\n",
    "2.\n",
    "\n",
    " <div style=\"text-align:center;width:200px;\"> <img alt=\"figure\" src=\"./fig/hw3q10-2.jpg\"> </div>\n",
    "\n",
    " 输入：root = [4,9,0,5,1], 输出：1026\n",
    "\n",
    "解释：从根到叶子节点路径 4->9->5 代表数字 495，4->9->1 代表数字 491，4->0 代表数字 40。因此和为 495 + 491 + 40 = 1026 。"
   ]
  },
  {
   "cell_type": "markdown",
   "metadata": {},
   "source": "idea：采用深度优先搜索（DFS）遍历二叉树。遍历时维护当前路径的数字，遇到叶子节点时将路径数字加入总和。首先，递归访问节点，更新当前路径值：current = current * 10 + node.val。若节点为叶子节点，返回当前路径值；否则递归处理左右子树，返回两者之和"
  },
  {
   "cell_type": "code",
   "metadata": {
    "ExecuteTime": {
     "end_time": "2025-05-13T04:26:48.862435Z",
     "start_time": "2025-05-13T04:26:48.857437Z"
    }
   },
   "source": [
    "# add your code here\n",
    "# your algorithm time complexity is:O(n)\n",
    "class TreeNode:\n",
    "    def __init__(self, value=0, left=None, right=None):\n",
    "        self.value = value\n",
    "        self.left_child = left\n",
    "        self.right_child = right\n",
    "\n",
    "def calculate_path_sum(root):\n",
    "    def depth_first_search(node, current_sum):\n",
    "        if not node:\n",
    "            return 0\n",
    "        current_sum = current_sum * 10 + node.value\n",
    "        if not node.left_child and not node.right_child:\n",
    "            return current_sum\n",
    "        return depth_first_search(node.left_child, current_sum) + depth_first_search(node.right_child, current_sum)\n",
    "    return depth_first_search(root, 0)\n",
    "\n",
    "def create_tree(node_list):\n",
    "    if not node_list:\n",
    "        return None\n",
    "    root = TreeNode(node_list[0])\n",
    "    queue = [root]\n",
    "    i = 1\n",
    "    while queue and i < len(node_list):\n",
    "        current_node = queue.pop(0)\n",
    "        if i < len(node_list) and node_list[i] is not None:\n",
    "            current_node.left_child = TreeNode(node_list[i])\n",
    "            queue.append(current_node.left_child)\n",
    "        i += 1\n",
    "        if i < len(node_list) and node_list[i] is not None:\n",
    "            current_node.right_child = TreeNode(node_list[i])\n",
    "            queue.append(current_node.right_child)\n",
    "        i += 1\n",
    "    return root\n",
    "root1 = create_tree([1, 2, 3])\n",
    "print(calculate_path_sum(root1))\n",
    "\n",
    "root2 = create_tree([4, 9, 0, 5, 1])\n",
    "print(calculate_path_sum(root2))\n"
   ],
   "outputs": [
    {
     "name": "stdout",
     "output_type": "stream",
     "text": [
      "25\n",
      "1026\n"
     ]
    }
   ],
   "execution_count": 23
  },
  {
   "cell_type": "markdown",
   "metadata": {},
   "source": [
    "## 问题 10  \n",
    "\n",
    "给你一个二叉树的根节点 root ， 检查它是否轴对称。\n",
    "\n",
    "1. 分析算法设计思路，计算时间复杂度，并基于python编程实现\n",
    "2. \\* 设计使用递归和迭代两种方法解决这个问题，计算时间复杂度，并基于python编程实现\n",
    "\n",
    "e.g.:\n",
    "---\n",
    "1.\n",
    "\n",
    " <div style=\"text-align:center;width:200px;\"> <img alt=\"figure\" src=\"./fig/hw3q11-1.png\"> </div>\n",
    "\n",
    " 输入：root = [1,2,2,3,4,4,3]， 输出：true\n",
    "\n",
    "解释：二叉树 [1,2,2,3,4,4,3] 对称。\n",
    "\n",
    "2.\n",
    "\n",
    " <div style=\"text-align:center;width:200px;\"> <img alt=\"figure\" src=\"./fig/hw3q11-2.png\"> </div>\n",
    "\n",
    " 输入：root = [1,2,2,null,3,null,3]， 输出：false"
   ]
  },
  {
   "cell_type": "markdown",
   "metadata": {},
   "source": "idea：首先，左子树的左节点与右子树的右节点递归比较；然后，左子树的右节点与右子树的左节点递归比较。"
  },
  {
   "cell_type": "code",
   "metadata": {
    "ExecuteTime": {
     "end_time": "2025-05-13T04:27:36.028801Z",
     "start_time": "2025-05-13T04:27:36.023868Z"
    }
   },
   "source": [
    "# add your code here\n",
    "# your algorithm time complexity is:O(n)\n",
    "from collections import deque\n",
    "\n",
    "class TreeNode:\n",
    "    def __init__(self, value=0, left=None, right=None):\n",
    "        self.value = value\n",
    "        self.left_child = left\n",
    "        self.right_child = right\n",
    "\n",
    "def is_tree_symmetric(root):\n",
    "    def check_mirror(left_node, right_node):\n",
    "        if not left_node and not right_node:\n",
    "            return True\n",
    "        if not left_node or not right_node:\n",
    "            return False\n",
    "        return (left_node.value == right_node.value and\n",
    "                check_mirror(left_node.left_child, right_node.right_child) and\n",
    "                check_mirror(left_node.right_child, right_node.left_child))\n",
    "    \n",
    "    if not root:\n",
    "        return True\n",
    "    return check_mirror(root.left_child, root.right_child)\n",
    "\n",
    "def create_tree(node_list):\n",
    "    if not node_list:\n",
    "        return None\n",
    "    root = TreeNode(node_list[0])\n",
    "    queue = [root]\n",
    "    index = 1\n",
    "    while queue and index < len(node_list):\n",
    "        current_node = queue.pop(0)\n",
    "        if index < len(node_list) and node_list[index] is not None:\n",
    "            current_node.left_child = TreeNode(node_list[index])\n",
    "            queue.append(current_node.left_child)\n",
    "        index += 1\n",
    "        if index < len(node_list) and node_list[index] is not None:\n",
    "            current_node.right_child = TreeNode(node_list[index])\n",
    "            queue.append(current_node.right_child)\n",
    "        index += 1\n",
    "    return root\n",
    "\n",
    "# 验证示例\n",
    "example1 = create_tree([1, 2, 2, 3, 4, 4, 3])\n",
    "print(is_tree_symmetric(example1))\n",
    "\n",
    "example2 = create_tree([1, 2, 2, None, 3, None, 3])\n",
    "print(is_tree_symmetric(example2)) \n"
   ],
   "outputs": [
    {
     "name": "stdout",
     "output_type": "stream",
     "text": [
      "True\n",
      "False\n"
     ]
    }
   ],
   "execution_count": 24
  },
  {
   "cell_type": "markdown",
   "metadata": {},
   "source": [
    "## 问题 11  \n",
    "\n",
    "给你一个由 '1'（陆地）和 '0'（水）组成的的二维网格，请你计算网格中岛屿的数量。岛屿总是被水包围，并且每座岛屿只能由水平方向和/或竖直方向上相邻的陆地连接形成。\n",
    "\n",
    "此外，你可以假设该网格的四条边均被水包围。\n",
    "\n",
    "分析算法设计思路，计算时间复杂度，并基于python编程实现\n",
    "\n",
    "e.g.:\n",
    "---\n",
    "1.\n",
    "输入：grid = [\n",
    "\n",
    "    [\"1\",\"1\",\"1\",\"1\",\"0\"],\n",
    "\n",
    "    [\"1\",\"1\",\"0\",\"1\",\"0\"], \n",
    "\n",
    "    [\"1\",\"1\",\"0\",\"0\",\"0\"], \n",
    "\n",
    "    [\"0\",\"0\",\"0\",\"0\",\"0\"]  \n",
    "\n",
    "]\n",
    "\n",
    "输出：1\n",
    "\n",
    "2.\n",
    "输入：grid = [\n",
    "\n",
    "    [\"1\",\"1\",\"0\",\"0\",\"0\"],\n",
    "\n",
    "    [\"1\",\"1\",\"0\",\"0\",\"0\"],\n",
    "\n",
    "    [\"0\",\"0\",\"1\",\"0\",\"0\"],\n",
    "\n",
    "    [\"0\",\"0\",\"0\",\"1\",\"1\"]\n",
    "\n",
    "]\n",
    "\n",
    "输出：3"
   ]
  },
  {
   "cell_type": "markdown",
   "metadata": {},
   "source": "idea：采用深度优先搜索遍历网格，遇到陆地（'1'）时将其相连的陆地标记为已访问，统计岛屿数量。首先，遍历每个网格点，遇到未访问的陆地时启动DFS；其次，深度优先搜索将当前陆地及其相邻陆地标记为已访问（修改为'0'）。"
  },
  {
   "cell_type": "code",
   "metadata": {
    "ExecuteTime": {
     "end_time": "2025-05-13T04:28:22.998798Z",
     "start_time": "2025-05-13T04:28:22.994677Z"
    }
   },
   "source": [
    "# add your code here\n",
    "# your algorithm time complexity is:O(mn)\n",
    "def count_islands(grid):\n",
    "    if not grid or not grid[0]:\n",
    "        return 0\n",
    "    \n",
    "    rows = len(grid)\n",
    "    cols = len(grid[0])\n",
    "    island_count = 0\n",
    "\n",
    "    def mark_visited(row, col):\n",
    "        if (row < 0 or col < 0 or \n",
    "            row >= rows or col >= cols or \n",
    "            grid[row][col] != '1'):\n",
    "            return\n",
    "        \n",
    "        grid[row][col] = '0'\n",
    "        mark_visited(row + 1, col)\n",
    "        mark_visited(row - 1, col)\n",
    "        mark_visited(row, col + 1)\n",
    "        mark_visited(row, col - 1)\n",
    "\n",
    "    for i in range(rows):\n",
    "        for j in range(cols):\n",
    "            if grid[i][j] == '1':\n",
    "                mark_visited(i, j)\n",
    "                island_count += 1\n",
    "    \n",
    "    return island_count\n",
    "\n",
    "# 验证示例\n",
    "example1 = [\n",
    "    [\"1\",\"1\",\"1\",\"1\",\"0\"],\n",
    "    [\"1\",\"1\",\"0\",\"1\",\"0\"],\n",
    "    [\"1\",\"1\",\"0\",\"0\",\"0\"],\n",
    "    [\"0\",\"0\",\"0\",\"0\",\"0\"]\n",
    "]\n",
    "print(count_islands(example1))\n",
    "\n",
    "example2 = [\n",
    "    [\"1\",\"1\",\"0\",\"0\",\"0\"],\n",
    "    [\"1\",\"1\",\"0\",\"0\",\"0\"],\n",
    "    [\"0\",\"0\",\"1\",\"0\",\"0\"],\n",
    "    [\"0\",\"0\",\"0\",\"1\",\"1\"]\n",
    "]\n",
    "print(count_islands(example2))\n"
   ],
   "outputs": [
    {
     "name": "stdout",
     "output_type": "stream",
     "text": [
      "1\n",
      "3\n"
     ]
    }
   ],
   "execution_count": 25
  }
 ],
 "metadata": {
  "language_info": {
   "name": "python"
  },
  "kernelspec": {
   "name": "python3",
   "language": "python",
   "display_name": "Python 3 (ipykernel)"
  }
 },
 "nbformat": 4,
 "nbformat_minor": 2
}
