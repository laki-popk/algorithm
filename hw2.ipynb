{
 "cells": [
  {
   "cell_type": "markdown",
   "metadata": {},
   "source": [
    "## algorithm design and anlysis-2025 spring  homework 2\n",
    "**Deadline**：2025.5.14\n",
    "\n",
    "**name**:\n",
    "\n",
    "\n",
    "note：\n",
    "---\n",
    "1. 带有\\*的题目，申请免上课的同学，必须完成，其他同学选作；\n",
    "2. 请独立完成，如求助了他人或者大模型，请著明，并且不可省略算法分析部分；\n",
    "4. 如若作答有雷同，全部取消成绩；\n",
    "3. 需要书面作答的题目，可以通过引用图片的形式添加，但是注意上传项目时包含所引用的图片的源文件；\n",
    "4. $log_n$ 默认表示$log_2{n}$;"
   ]
  },
  {
   "cell_type": "markdown",
   "metadata": {},
   "source": [
    "## 问题 1  \n",
    "\n",
    "> 给定一个已排序的链表的头 `head` ， *删除所有重复的元素，使每个元素只出现一次* 。返回 *已排序的链表* 。链表的类如下所示：\n",
    "\n",
    "```python\n",
    "class NodeList:\n",
    "    def __init__(self, val=None, right=None):\n",
    "        self.val   = val\n",
    "        self.right = right\n",
    "```\n",
    "\n",
    "输入是一个数组，你首先需要将数组转化为链表，然后删除链表中的重复元素，再遍历链表元素，以一个数组的形式返回。请设计一个算法解决上述任务，分析算法设计思路，计算时间复杂度, 并基于python编程实现。\n",
    "\n",
    "e.g.  输入：head=[1, 1, 2, 3, 3]   输出：[1, 2, 3]\n",
    "\n",
    "![image-20240502110020439](./fig/hw2q1.png)\n",
    "\n"
   ]
  },
  {
   "cell_type": "markdown",
   "metadata": {},
   "source": [
    "idea：要解决已排序链表中删除重复元素的问题，可以利用链表的遍历特性，跳过所有重复的节点，确保每个元素只保留一次。首先遍历链表，使用指针逐个检查每个节点；然后跳过重复节点，当当前节点与下一个节点值相同时，循环跳过所有重复的节点，直至遇到不同值的节点；最后更新指针，将当前节点的指针指向下一个不同值的节点，继续遍历。\n",
    "\n",
    "时间复杂度：链表长度是n，每个节点最多被访问两次，总体为线性时间，则时间复杂度为O(n)"
   ]
  },
  {
   "cell_type": "code",
   "metadata": {
    "ExecuteTime": {
     "end_time": "2025-05-13T03:29:35.052777Z",
     "start_time": "2025-05-13T03:29:35.041267Z"
    }
   },
   "source": [
    "class Node:\n",
    "    def __init__(self, value=None, next_node=None):\n",
    "        self.value = value \n",
    "        self.next_node = next_node  \n",
    "\n",
    "def create_linked_list(numbers):\n",
    "    if not numbers:\n",
    "        return None\n",
    "    first_node = Node(numbers[0])  \n",
    "    current_node = first_node  \n",
    "    for number in numbers[1:]:\n",
    "        current_node.next_node = Node(number)  \n",
    "        current_node = current_node.next_node  \n",
    "    return first_node\n",
    "\n",
    "def remove_duplicates(head_node):\n",
    "    current_node = head_node\n",
    "    while current_node and current_node.next_node:\n",
    "        while current_node.next_node and current_node.value == current_node.next_node.value:\n",
    "            current_node.next_node = current_node.next_node.next_node  \n",
    "        current_node = current_node.next_node  \n",
    "    return head_node\n",
    "\n",
    "def linked_list_to_array(head_node):\n",
    "    result = []\n",
    "    current_node = head_node\n",
    "    while current_node:\n",
    "        result.append(current_node.value)  \n",
    "        current_node = current_node.next_node \n",
    "    return result\n",
    "\n",
    "def process_numbers(numbers):\n",
    "    linked_list_head = create_linked_list(numbers)\n",
    "    linked_list_head = remove_duplicates(linked_list_head)\n",
    "    return linked_list_to_array(linked_list_head)\n",
    "\n",
    "numbers = [1, 1, 2, 3, 3]\n",
    "processed_numbers = process_numbers(numbers)\n",
    "print(processed_numbers)"
   ],
   "outputs": [
    {
     "name": "stdout",
     "output_type": "stream",
     "text": [
      "[1, 2, 3]\n"
     ]
    }
   ],
   "execution_count": 15
  },
  {
   "cell_type": "markdown",
   "metadata": {},
   "source": [
    "## 问题 2  \n",
    "\n",
    "> 下面是一个经典的算法问题：\n",
    ">\n",
    "> - 给定包含n个整数的一个整数数组 `nums` 和一个整数目标值 `target`，请你在该数组中找出 **和为目标值** *`target`* 的那 **两个** 整数，并返回它们的**数组下标**。假设每种输入只会对应一个答案。但是，数组中同一个元素在答案里不能重复出现。你可以按任意顺序返回答案。\n",
    ">\n",
    "> 由于要多次查找数组中元素的位置，为了提高查询效率可以使用哈希表来存储数组中的数据，在哈希表中查询一个元素的复杂度为O(1)。 已知python中的字典是使用哈希表实现的，即使用`dict[key]`查询对应的value时间复杂度为O(1), python提供了查询字典是否包含某个key的功能：`key in dict`，时间复杂度也是O(1)\n",
    "\n",
    "请根据上面信息，设计一个时间复杂度为O(n) 的算法，解决上述算法问题\n",
    "\n",
    "e.g.   \n",
    "\n",
    "输入：nums=[2,7,11,15], target=9， 输出：[0，1]\n",
    "\n",
    "输入：nums=[3,2,4], target=6, 输出：[1,2]\n",
    "\n",
    "输入：nums=[3,3], target=6,  输出：[0,1]\n"
   ]
  },
  {
   "metadata": {},
   "cell_type": "markdown",
   "source": "idea：首先进行哈希表存储，遍历数组时，用字典存储已遍历数字及其下标；然后查找补数，若补数存在于字典中，直接返回两个下标；最后单次遍历：每个元素仅遍历一次，时间复杂度为 O(n)。"
  },
  {
   "cell_type": "code",
   "metadata": {
    "ExecuteTime": {
     "end_time": "2025-05-13T03:32:11.234435Z",
     "start_time": "2025-05-13T03:32:11.229830Z"
    }
   },
   "source": [
    "# add your idea here\n",
    "# your algorithm time complexity is: O(n)\n",
    "def find_pairs(numbers, sum_value):\n",
    "    number_to_index = {}\n",
    "    \n",
    "    for i, current_number in enumerate(numbers):\n",
    "        needed_number = sum_value - current_number\n",
    "        if needed_number in number_to_index:\n",
    "            return [number_to_index[needed_number], i]\n",
    "        number_to_index[current_number] = i\n",
    "\n",
    "def run_tests():\n",
    "    test1 = find_pairs([2, 7, 11, 15], 9)\n",
    "    print(f\"测试1结果: {test1}\") \n",
    "    \n",
    "    test2 = find_pairs([3, 2, 4], 6)\n",
    "    print(f\"测试2结果: {test2}\")  \n",
    "    \n",
    "    test3 = find_pairs([3, 3], 6)\n",
    "    print(f\"测试3结果: {test3}\")  \n",
    "\n",
    "run_tests()"
   ],
   "outputs": [
    {
     "name": "stdout",
     "output_type": "stream",
     "text": [
      "测试1结果: [0, 1]\n",
      "测试2结果: [1, 2]\n",
      "测试3结果: [0, 1]\n"
     ]
    }
   ],
   "execution_count": 16
  },
  {
   "cell_type": "markdown",
   "metadata": {},
   "source": [
    "## 问题 3:   \n",
    "\n",
    "> 栈是一种常用的数据结构，编译器中通常使用栈来实现表达式求值。\n",
    ">\n",
    "> 以表达式 $3+5 \\times 8-6$​ 为例。编译器使用两个栈来完成运算，即一个栈保持操作数，另一个栈保存运算符。\n",
    ">\n",
    "> 1. 从左向右遍历表达式，遇到数字就压入操作数栈；\n",
    ">\n",
    "> 2. 遇到运算符，就与运算符栈的栈顶元素进行比较。如果比运算符栈顶元素的优先级高，就将当前运算符压入栈；如果比运算符栈顶元素的优先级低或者相同，从运算符栈中取栈顶运算符，从操作数栈的栈顶取 2 个操作数，然后进行计算，再把计算完的结果压入操作数栈，继续比较。\n",
    ">\n",
    "> 下图是 $3+5 \\times 8-6$  这个表达式的计算过程：\n",
    "\n",
    "![figure](./fig/hw2q3.png)\n",
    "\n",
    "根据上述原理，请设计一个算法完成表达式的运算，当输入为表达式字符串，返回对应的计算结果。分析算法设计思路，计算时间复杂度，并基于python编程实现\n",
    "\n",
    "**note：**\n",
    "\n",
    "1. 假设输入的表达式只会出现加（“+”），减 “-”， 乘“*”，除 “/” 四个运算符, 表达式中只会出现正整数\n",
    "2. python中` str.isdigit()`函数可以判断字符串str是否为数字，\n",
    "\n",
    "\n",
    "\n",
    "e.g. :\n",
    "---\n",
    "\n",
    "1. 输入：“$3+5 * 8 -6$”   输出：37\n",
    "\n",
    "2. 输入：“$34+13*9 + 44-12/3$”  输出：191"
   ]
  },
  {
   "cell_type": "markdown",
   "metadata": {},
   "source": "idea：首先，使用两个栈分别存储操作数和运算符。操作数栈直接保存数值，运算符栈根据优先级动态调整运算顺序；其次，乘除优先级高于加减。遍历时若当前运算符优先级低于或等于栈顶运算符，则先计算栈顶运算符对应的结果；最后，遍历完表达式后，若运算符栈仍有剩余元素，依次弹出并计算。"
  },
  {
   "cell_type": "code",
   "metadata": {
    "ExecuteTime": {
     "end_time": "2025-05-13T03:35:40.293087Z",
     "start_time": "2025-05-13T03:35:40.286788Z"
    }
   },
   "source": [
    "# add your idea here\n",
    "# your algorithm time complexity is: O(n)\n",
    "def evaluate_expression(s):\n",
    "    numbers = []\n",
    "    operators = []\n",
    "    precedence = {'+': 1, '-': 1, '*': 2, '/': 2}\n",
    "    i = 0\n",
    "    n = len(s)\n",
    "    while i < n:\n",
    "        if s[i] == ' ':\n",
    "            i += 1\n",
    "            continue\n",
    "        if s[i].isdigit():\n",
    "            j = i\n",
    "            while j < n and s[j].isdigit():\n",
    "                j += 1\n",
    "            number = int(s[i:j])\n",
    "            numbers.append(number)\n",
    "            i = j\n",
    "        else:\n",
    "            current_operator = s[i]\n",
    "            while (operators and \n",
    "                   precedence[current_operator] <= precedence[operators[-1]]):\n",
    "                op = operators.pop()\n",
    "                b = numbers.pop()\n",
    "                a = numbers.pop()\n",
    "                if op == '+':\n",
    "                    numbers.append(a + b)\n",
    "                elif op == '-':\n",
    "                    numbers.append(a - b)\n",
    "                elif op == '*':\n",
    "                    numbers.append(a * b)\n",
    "                elif op == '/':\n",
    "                    numbers.append(a // b)\n",
    "            operators.append(current_operator)\n",
    "            i += 1\n",
    "    while operators:\n",
    "        op = operators.pop()\n",
    "        b = numbers.pop()\n",
    "        a = numbers.pop()\n",
    "        if op == '+':\n",
    "            numbers.append(a + b)\n",
    "        elif op == '-':\n",
    "            numbers.append(a - b)\n",
    "        elif op == '*':\n",
    "            numbers.append(a * b)\n",
    "        elif op == '/':\n",
    "            numbers.append(a // b)\n",
    "    return numbers[0]\n",
    "\n",
    "def run_tests():\n",
    "    test1 = evaluate_expression(\"3+5*8-6\")\n",
    "    print(test1)\n",
    "    \n",
    "    test2 = evaluate_expression(\"34+13*9 + 44-12/3\")\n",
    "    print(test2)\n",
    "\n",
    "run_tests()"
   ],
   "outputs": [
    {
     "name": "stdout",
     "output_type": "stream",
     "text": [
      "37\n",
      "191\n"
     ]
    }
   ],
   "execution_count": 17
  },
  {
   "cell_type": "markdown",
   "metadata": {},
   "source": [
    "## 问题 4:  \n",
    "\n",
    "> 星球碰撞问题：现有n个星球，在同一条直线上运行，如数组A所示，元素的绝对值表示星球的质量，负数表示星球自右向左运动，正数表示星球自左向右运动，当两个星球相撞的时候，质量小的会消失，大的保持不变，**质量相同的两个星球碰撞后自右向左运动的星球消失，自左向右的星球保持不变**，假设所有星球的速度大小相同。\n",
    ">\n",
    "> $ A=[23,-8, 9, -3, -7, 9, -23, 22] $\n",
    "\n",
    "请设计一个算法模拟星球的运行情况，输出最终的星球存续情况（输出一个数组），分析算法设计思路，计算时间复杂度，并基于python编程实现。\n",
    "\n",
    "e.g.\n",
    "---\n",
    "1.  输入： A=[-3,-6,2,8, 5,-8,9,-2,1]， 输出：[-3, -6, 2, 8, 9, 1]\n",
    "\n",
    "2. 输入：A=[23,-8, 9, -3, -7, 9, -23, 22], 输出：[23, 22]\n",
    "\n"
   ]
  },
  {
   "metadata": {},
   "cell_type": "markdown",
   "source": "idea：栈处理碰撞，使用栈存储存活的星球。遍历时，正数直接入栈，负数需要与栈顶正数比较。仅当栈顶向右（正数）且当前星球向左（负数）时发生碰撞。根据质量决定存活：栈顶大，则当前消灭；当前大，则弹出栈顶继续比较；相等，则同归于尽"
  },
  {
   "metadata": {
    "ExecuteTime": {
     "end_time": "2025-05-13T03:54:00.130691Z",
     "start_time": "2025-05-13T03:54:00.126500Z"
    }
   },
   "cell_type": "code",
   "source": [
    "# your algorithm time complexity is: O(n)\n",
    "def check_collisions(rocks):\n",
    "    rock_pile = []\n",
    "    for rock in rocks:\n",
    "        while rock_pile and rock < 0 and rock_pile[-1] > 0:\n",
    "            if abs(rock) > rock_pile[-1]:\n",
    "                rock_pile.pop()\n",
    "            elif abs(rock) < rock_pile[-1]:\n",
    "                rock = None\n",
    "                break\n",
    "            else:\n",
    "                rock = None\n",
    "                break\n",
    "        if rock is not None:\n",
    "            rock_pile.append(rock)\n",
    "    return rock_pile\n",
    "\n",
    "example1 = [-3, -6, 2, 8, 5, -8, 9, -2, 1]\n",
    "print(check_collisions(example1))\n",
    "\n",
    "example2 = [23, -8, 9, -3, -7, 9, -23, 22]\n",
    "print(check_collisions(example2))"
   ],
   "outputs": [
    {
     "name": "stdout",
     "output_type": "stream",
     "text": [
      "[-3, -6, 2, 8, 9, 1]\n",
      "[23, 22]\n"
     ]
    }
   ],
   "execution_count": 26
  },
  {
   "cell_type": "markdown",
   "metadata": {},
   "source": [
    "## 问题 5 \n",
    "\n",
    "> 给定一个无序数组nums=[9,-3,-10,0,9,7,33]，请建立一个二叉搜索树存储数组中的所有元素，之后删除二叉树中的元素“0”，再使用中序遍历输出二叉搜索树中的所有元素。\n",
    "\n",
    "使用python编程完成上述任务，并计算时间复杂度\n"
   ]
  },
  {
   "metadata": {},
   "cell_type": "markdown",
   "source": "idea：首先进行插入操作，每个元素插入时间复杂度为 O(h)，其中h是树的高度，最坏情况（链式结构）为O(n²)，平均情况（平衡树）为O(nlogn)；然后进行删除操作，时间复杂度为O(h)，最坏情况 O(n)，平均情况O(logn)；最后进行中序遍历，时间复杂度为O(n)。所以最后平均时间复杂度为O(nlogn)。"
  },
  {
   "cell_type": "code",
   "metadata": {
    "ExecuteTime": {
     "end_time": "2025-05-13T03:55:22.288236Z",
     "start_time": "2025-05-13T03:55:22.283107Z"
    }
   },
   "source": [
    "# add your idea here\n",
    "# your algorithm time complexity is:O(nlogn)\n",
    "class TreeNode:\n",
    "    def __init__(self, value=0, left=None, right=None):\n",
    "        self.value = value\n",
    "        self.left_child = left\n",
    "        self.right_child = right\n",
    "\n",
    "def add_to_bst(root, value):\n",
    "    if root is None:\n",
    "        return TreeNode(value)\n",
    "    if value < root.value:\n",
    "        root.left_child = add_to_bst(root.left_child, value)\n",
    "    else:\n",
    "        root.right_child = add_to_bst(root.right_child, value)\n",
    "    return root\n",
    "\n",
    "def remove_from_bst(root, target):\n",
    "    if root is None:\n",
    "        return None\n",
    "    if target < root.value:\n",
    "        root.left_child = remove_from_bst(root.left_child, target)\n",
    "    elif target > root.value:\n",
    "        root.right_child = remove_from_bst(root.right_child, target)\n",
    "    else:\n",
    "        if root.left_child is None:\n",
    "            return root.right_child\n",
    "        elif root.right_child is None:\n",
    "            return root.left_child\n",
    "        smallest_node = root.right_child\n",
    "        while smallest_node.left_child:\n",
    "            smallest_node = smallest_node.left_child\n",
    "        root.value = smallest_node.value\n",
    "        root.right_child = remove_from_bst(root.right_child, smallest_node.value)\n",
    "    return root\n",
    "\n",
    "def collect_inorder(root, values):\n",
    "    if root:\n",
    "        collect_inorder(root.left_child, values)\n",
    "        values.append(root.value)\n",
    "        collect_inorder(root.right_child, values)\n",
    "\n",
    "def build_and_process_tree(numbers):\n",
    "    root_node = None\n",
    "    for num in numbers:\n",
    "        root_node = add_to_bst(root_node, num)\n",
    "    root_node = remove_from_bst(root_node, 0)\n",
    "    result = []\n",
    "    collect_inorder(root_node, result)\n",
    "    return result\n",
    "\n",
    "def run_test():\n",
    "    test_case = build_and_process_tree([9, -3, -10, 0, 9, 7, 33])\n",
    "    print(test_case)\n",
    "\n",
    "run_test()\n"
   ],
   "outputs": [
    {
     "name": "stdout",
     "output_type": "stream",
     "text": [
      "[-10, -3, 7, 9, 9, 33]\n"
     ]
    }
   ],
   "execution_count": 27
  },
  {
   "cell_type": "markdown",
   "metadata": {},
   "source": [
    "## 问题 6  \n",
    "\n",
    "> 给定一个包含大写字母和小写字母的字符串 s ，返回 字符串包含的 **最长的回文子串的长度** 。请注意 区分大小写 。比如 \"Aa\" 不能当做一个回文字符串。\n",
    ">\n",
    "\n",
    "请设计一个算法解决上述问题，只需要输出最长回文子串的长度，分析算法设计思路，计算时间复杂度，并基于python编程实现\n",
    "\n",
    "e.g. 输入： s=\"adccaccd\"，  输出：7。 最长回文子串为：\"dccaccd\", 长度为7\n"
   ]
  },
  {
   "cell_type": "markdown",
   "metadata": {},
   "source": "idea：首先使用中心扩展法，每个回文都有一个中心点，可能是单个字符（奇数长度）或两个相邻字符之间的间隙（偶数长度）；然后遍历每个可能的中心点，向两侧扩展直到字符不匹配，记录最长的回文长度；其次，构造辅助函数，检查给定左右指针的扩展情况，返回当前中心的最长回文长度；最后遍历所有中心，对每个字符尝试奇数和偶数两种扩展方式，更新全局最大长度。"
  },
  {
   "cell_type": "code",
   "metadata": {
    "ExecuteTime": {
     "end_time": "2025-05-13T03:56:37.744337Z",
     "start_time": "2025-05-13T03:56:37.739888Z"
    }
   },
   "source": [
    "# add your idea here\n",
    "# your algorithm time complexity is:O(n²)\n",
    "def find_longest_palindrome(s):\n",
    "    def check_palindrome(left, right):\n",
    "        while left >= 0 and right < len(s) and s[left] == s[right]:\n",
    "            left = left - 1\n",
    "            right = right + 1\n",
    "        return right - left - 1\n",
    "\n",
    "    if s == \"\":\n",
    "        return 0\n",
    "\n",
    "    max_len = 0\n",
    "    for i in range(len(s)):\n",
    "        len1 = check_palindrome(i, i)\n",
    "        len2 = check_palindrome(i, i + 1)\n",
    "        current_len = max(len1, len2)\n",
    "        if current_len > max_len:\n",
    "            max_len = current_len\n",
    "\n",
    "    return max_len if max_len != 0 else 1\n",
    "\n",
    "print(find_longest_palindrome(\"adccaccd\"))  \n"
   ],
   "outputs": [
    {
     "name": "stdout",
     "output_type": "stream",
     "text": [
      "7\n"
     ]
    }
   ],
   "execution_count": 28
  },
  {
   "cell_type": "markdown",
   "metadata": {},
   "source": [
    "## 问题 7 \n",
    "\n",
    "> 沿一条长河流分散着n座房子。你可以把这条河想象成一条轴，房子是由它们在这条轴上的坐标按顺序排列的。你的公司想在河边的特定地点设置手机基站，这样每户人家都在距离基站4公里的范围内。输入可以看作为一个升序数组，数组元素的取值为大于等于0的正整数，你需要输出最小基站的数目，基站的位置。\n",
    "\n",
    "1. 给出一个时间复杂度为$O(n$) 的算法，使所使用的基站数量最小化，分析算法设计思路，使用python编程实现\n",
    "2. 证明1.中算法产生了最优解决方案。\n",
    "\n",
    "e.g. \n",
    "\n",
    "输入： [1, 5, 12, 33, 34,35]  输出：基站数目为3， 基站位置为[1，12，33]\n",
    "\n"
   ]
  },
  {
   "cell_type": "markdown",
   "metadata": {},
   "source": "idea：为了最小化基站数量，采用贪心策略：每次找到最左侧未被覆盖的房子，将基站放置在该房子右侧4公里处，覆盖该房子及其右侧尽可能多的房子。首先，初始化计数器count和覆盖范围右边界last_cover；其次，遍历每个房子坐标，若该坐标超出当前覆盖范围，则在此处右侧4公里放置基站，并更新覆盖范围到该基站右侧4公里；最后，继续处理后续未被覆盖的房子。"
  },
  {
   "cell_type": "code",
   "metadata": {
    "ExecuteTime": {
     "end_time": "2025-05-13T03:59:00.213003Z",
     "start_time": "2025-05-13T03:59:00.208005Z"
    }
   },
   "source": [
    "# add your idea here\n",
    "# your algorithm time complexity is:O(n)\n",
    "def calculate_min_stations(house_positions):\n",
    "    if not house_positions:\n",
    "        return 0, []\n",
    "    station_count = 0\n",
    "    last_covered_position = -999999\n",
    "    station_positions = []\n",
    "    for house_position in house_positions:\n",
    "        if house_position > last_covered_position:\n",
    "            station_count += 1\n",
    "            station_positions.append(house_position)\n",
    "            last_covered_position = house_position + 8\n",
    "    return station_count, station_positions\n",
    "\n",
    "example_houses = [1, 5, 12, 33, 34, 35]\n",
    "stations_count, stations = calculate_min_stations(example_houses)\n",
    "print(stations_count)\n",
    "print(stations)\n"
   ],
   "outputs": [
    {
     "name": "stdout",
     "output_type": "stream",
     "text": [
      "3\n",
      "[1, 12, 33]\n"
     ]
    }
   ],
   "execution_count": 31
  },
  {
   "cell_type": "markdown",
   "metadata": {},
   "source": [
    "## 问题 8  \n",
    "\n",
    "> 给定由n个正整数组成的一个集合$S = \\{a_1, a_2，···，a_n\\}$和一个正整数W，设计一个算法确定是否存在S的一个子集 $K \\subseteq S$, 使K中所有数之和为 $W$, 如果存在返回“True”，否则返回“False”\n",
    "\n",
    "请设计一个时间复杂度为$O(nW)$动态规划算法，解决上述问题，分析算法的设计思路，并且基于python编程实现（不需要输出子集）。\n",
    "\n",
    "e.g. \n",
    "\n",
    "输入：S = {1,4,7,3,5}， W = 11，输出：True。   因为K可以是{4,7}。\n",
    "\n"
   ]
  },
  {
   "cell_type": "markdown",
   "metadata": {},
   "source": "idea：使用动态规划解决子集和问题，核心思想是维护一个布尔数组dp，其中dp[w]表示是否存在子集和为w。初始时，空集和为0，故dp[0] = True。对于每个元素，从后向前更新可能达到的和，避免重复使用元素。"
  },
  {
   "cell_type": "code",
   "metadata": {
    "ExecuteTime": {
     "end_time": "2025-05-13T04:00:08.959439Z",
     "start_time": "2025-05-13T04:00:08.955507Z"
    }
   },
   "source": [
    "# add your idea here\n",
    "# your algorithm time complexity is: O(nW)\n",
    "def can_make_sum(numbers, target):\n",
    "    possible = [False] * (target + 1)\n",
    "    possible[0] = True\n",
    "    for number in numbers:\n",
    "        for current_sum in range(target, number - 1, -1):\n",
    "            if possible[current_sum - number]:\n",
    "                possible[current_sum] = True\n",
    "    return possible[target]\n",
    "\n",
    "number_list = [1, 4, 7, 3, 5]\n",
    "target_sum = 11\n",
    "print(can_make_sum(number_list, target_sum))\n"
   ],
   "outputs": [
    {
     "name": "stdout",
     "output_type": "stream",
     "text": [
      "True\n"
     ]
    }
   ],
   "execution_count": 32
  },
  {
   "cell_type": "markdown",
   "metadata": {},
   "source": [
    "\n",
    "\n",
    "## 问题 9 \n",
    "\n",
    "> 给定一个n个物品的集合。物体的重量为$w_1, w_2，…、w_n$，物品的价值分别是$v_1、v_2、…v_n$。给你**两个**重量为 $c$ 的背包。如果你带了一个东西，它可以放在一个背包里，也可以放在另一个背包里，但不能同时放在两个背包里。所有权重和价值都是正整数。\n",
    "\n",
    "1. 设计一个时间复杂度为 $O(nc^2)$ 的动态规划算法，确定可以放入两个背包的物体的最大价值。分析算法设计思路，并基于python编程实现\n",
    "2. \\* 修改1中的算法，输出每个背包的内容（物品对应下标）。\n",
    "\n",
    "e.g.: \n",
    "\n",
    "输入 V=[1,3,2,5,8,7], W=[1,3,2,5,8,7], c=7, 输出：最大价值=14，背包装的物品为：[6] [4，3] （同一个背包中物品装入顺序对结果无影响）  \n"
   ]
  },
  {
   "cell_type": "markdown",
   "metadata": {},
   "source": "idea：该问题需使用动态规划解决两个背包的最大价值问题。我们维护一个二维数组 dp[j][k] 表示第一个背包容量为 j，第二个为 k 时的最大价值。对于每个物品，尝试将其放入第一个或第二个背包，并更新对应的 dp 值。时间复杂度为 O(nc²)。"
  },
  {
   "cell_type": "code",
   "metadata": {
    "ExecuteTime": {
     "end_time": "2025-05-13T04:06:57.532237Z",
     "start_time": "2025-05-13T04:06:57.528081Z"
    }
   },
   "source": [
    "# add your idea here\n",
    "# your algorithm time complexity is: O(nc²)\n",
    "def max_value_two_knapsacks(values, weights, capacity):\n",
    "    n = len(values)\n",
    "    prev_dp = [[-999999 for _ in range(capacity + 1)] for _ in range(capacity + 1)]\n",
    "    prev_dp[0][0] = 0\n",
    "\n",
    "    for i in range(n):\n",
    "        curr_dp = [row.copy() for row in prev_dp]\n",
    "        current_weight = weights[i]\n",
    "        current_value = values[i]\n",
    "\n",
    "        for j in range(capacity + 1):\n",
    "            for k in range(capacity + 1):\n",
    "                if j >= current_weight and prev_dp[j - current_weight][k] + current_value > curr_dp[j][k]:\n",
    "                    curr_dp[j][k] = prev_dp[j - current_weight][k] + current_value\n",
    "                if k >= current_weight and prev_dp[j][k - current_weight] + current_value > curr_dp[j][k]:\n",
    "                    curr_dp[j][k] = prev_dp[j][k - current_weight] + current_value\n",
    "\n",
    "        prev_dp = curr_dp\n",
    "\n",
    "    max_val = max(max(row) for row in prev_dp)\n",
    "    return max_val if max_val != -999999 else 0\n",
    "\n",
    "values = [1, 3, 2, 5, 8, 7]\n",
    "weights = [1, 3, 2, 5, 8, 7]\n",
    "capacity = 7\n",
    "print(f\"最大价值= {max_value_two_knapsacks(values, weights, capacity)}\") \n"
   ],
   "outputs": [
    {
     "name": "stdout",
     "output_type": "stream",
     "text": [
      "最大价值= 14\n"
     ]
    }
   ],
   "execution_count": 40
  },
  {
   "cell_type": "markdown",
   "metadata": {},
   "source": [
    "## 问题 10 \n",
    "\n",
    "> 给定两个字符串 $x[1..n]$ 和 $y[1..m]$，我们想通过以下操作将 $x$ 变换为 $y$ :\n",
    ">\n",
    "> **插入**：在 $x$ 中插入一个字符(在任何位置)；**删除**：从 $x$ 中删除一个字符(在任何位置)； **替换**：用另一个字符替换 $x$ 中的一个字符。\n",
    ">\n",
    "> 例如: $x = abcd$, $y = bcfe$，\n",
    ">\n",
    "> - 将 $x$ 转换为 $y$ 的一种可能方法是：1. 删除 $x$ 开头的 $a$, $x$变成 $bcd$； 2. 将 $x$ 中的字符 $d$ 替换为字符 $f$。$x$ 变成 $bcf$； 3. 在 $x$ 的末尾插入字符 $e$。$x$ 变成 $bcfe$。\n",
    ">\n",
    "> - 另一种可能的方法：1. 删除 $x$ 开头的 $a$,  $x$ 变成 $bcd$； 2. 在 $x$ 中字符 $d$ 之前插入字符 $f$。$x$ 变成 $bcfd$。3. 将 $x$ 中的字符 $d$ 替换为字符 $e$。$x$ 变成 $bcfe$。\n",
    "\n",
    "设计一个时间复杂度为 $O(mn)$ 的算法，返回将 $x$ 转换为 $y$ 所需的最少操作次数。分析算法设计思路，并基于python编程实现。\n"
   ]
  },
  {
   "cell_type": "markdown",
   "metadata": {},
   "source": "idea：使用动态规划解决编辑距离问题。定义二维数组 dp，其中 dp[i][j] 表示将 x 的前 i 个字符转换为 y 的前 j 个字符所需的最少操作次数。状态转移时考虑三种操作（插入、删除、替换），取最小值更新当前状态。"
  },
  {
   "cell_type": "code",
   "metadata": {
    "ExecuteTime": {
     "end_time": "2025-05-13T04:09:03.846743Z",
     "start_time": "2025-05-13T04:09:03.841751Z"
    }
   },
   "source": [
    "# add your idea here\n",
    "# your algorithm time complexity is: O(mn)\n",
    "def calculate_edit_distance(str1, str2):\n",
    "    len1 = len(str1)\n",
    "    len2 = len(str2)\n",
    "    distance = [[0] * (len2 + 1) for _ in range(len1 + 1)]\n",
    "\n",
    "    for i in range(len1 + 1):\n",
    "        distance[i][0] = i\n",
    "    for j in range(len2 + 1):\n",
    "        distance[0][j] = j\n",
    "\n",
    "    for i in range(1, len1 + 1):\n",
    "        for j in range(1, len2 + 1):\n",
    "            if str1[i - 1] == str2[j - 1]:\n",
    "                replace_cost = 0\n",
    "            else:\n",
    "                replace_cost = 1\n",
    "            distance[i][j] = min(\n",
    "                distance[i - 1][j] + 1,\n",
    "                distance[i][j - 1] + 1,\n",
    "                distance[i - 1][j - 1] + replace_cost\n",
    "            )\n",
    "\n",
    "    return distance[len1][len2]\n",
    "\n",
    "string1 = \"abcd\"\n",
    "string2 = \"bcdf\"\n",
    "print(calculate_edit_distance(string1, string2))\n"
   ],
   "outputs": [
    {
     "name": "stdout",
     "output_type": "stream",
     "text": [
      "2\n"
     ]
    }
   ],
   "execution_count": 42
  }
 ],
 "metadata": {
  "language_info": {
   "name": "python"
  },
  "kernelspec": {
   "name": "python3",
   "language": "python",
   "display_name": "Python 3 (ipykernel)"
  }
 },
 "nbformat": 4,
 "nbformat_minor": 2
}
